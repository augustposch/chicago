{
 "cells": [
  {
   "cell_type": "markdown",
   "metadata": {},
   "source": [
    "# CIVE 7100 | Final Project | August Posch | April 2022  "
   ]
  },
  {
   "cell_type": "markdown",
   "metadata": {},
   "source": [
    "### Question 1 Code"
   ]
  },
  {
   "cell_type": "code",
   "execution_count": 2,
   "metadata": {},
   "outputs": [],
   "source": [
    "import numpy as np\n",
    "import pandas as pd\n",
    "import matplotlib.pyplot as plt\n",
    "from pandas.plotting import register_matplotlib_converters\n",
    "register_matplotlib_converters()\n",
    "\n",
    "import geopandas as gpd"
   ]
  },
  {
   "cell_type": "code",
   "execution_count": 3,
   "metadata": {},
   "outputs": [],
   "source": [
    "rides = pd.read_csv('data/L_Station_Daily_Totals.csv')\n",
    "\n",
    "stops = pd.read_csv('data/List_of_L_Stops.csv')\n",
    "\n",
    "stations = gpd.read_file('data/LStationShape')"
   ]
  },
  {
   "cell_type": "markdown",
   "metadata": {},
   "source": [
    "## Now I have\n",
    "- rides (pandas df)\n",
    "- stations (geopandas gdf)\n",
    "\n",
    "I don't need the stops dataset, and it might be hard to join in anyway - the stops dataset doesn't include station ID.\n",
    "\n",
    "I will join Lrides and Lstations on station ID... But, I will hold off on that until I actually need to do it."
   ]
  },
  {
   "cell_type": "code",
   "execution_count": 4,
   "metadata": {},
   "outputs": [
    {
     "data": {
      "text/html": [
       "<div>\n",
       "<style scoped>\n",
       "    .dataframe tbody tr th:only-of-type {\n",
       "        vertical-align: middle;\n",
       "    }\n",
       "\n",
       "    .dataframe tbody tr th {\n",
       "        vertical-align: top;\n",
       "    }\n",
       "\n",
       "    .dataframe thead th {\n",
       "        text-align: right;\n",
       "    }\n",
       "</style>\n",
       "<table border=\"1\" class=\"dataframe\">\n",
       "  <thead>\n",
       "    <tr style=\"text-align: right;\">\n",
       "      <th></th>\n",
       "      <th>station_id</th>\n",
       "      <th>stationname</th>\n",
       "      <th>date</th>\n",
       "      <th>daytype</th>\n",
       "      <th>rides</th>\n",
       "    </tr>\n",
       "  </thead>\n",
       "  <tbody>\n",
       "    <tr>\n",
       "      <th>0</th>\n",
       "      <td>41280</td>\n",
       "      <td>Jefferson Park</td>\n",
       "      <td>12/22/2017</td>\n",
       "      <td>W</td>\n",
       "      <td>6104</td>\n",
       "    </tr>\n",
       "    <tr>\n",
       "      <th>1</th>\n",
       "      <td>41000</td>\n",
       "      <td>Cermak-Chinatown</td>\n",
       "      <td>12/18/2017</td>\n",
       "      <td>W</td>\n",
       "      <td>3636</td>\n",
       "    </tr>\n",
       "    <tr>\n",
       "      <th>2</th>\n",
       "      <td>40280</td>\n",
       "      <td>Central-Lake</td>\n",
       "      <td>12/02/2017</td>\n",
       "      <td>A</td>\n",
       "      <td>1270</td>\n",
       "    </tr>\n",
       "    <tr>\n",
       "      <th>3</th>\n",
       "      <td>40140</td>\n",
       "      <td>Dempster-Skokie</td>\n",
       "      <td>12/19/2017</td>\n",
       "      <td>W</td>\n",
       "      <td>1759</td>\n",
       "    </tr>\n",
       "    <tr>\n",
       "      <th>4</th>\n",
       "      <td>40690</td>\n",
       "      <td>Dempster</td>\n",
       "      <td>12/03/2017</td>\n",
       "      <td>U</td>\n",
       "      <td>499</td>\n",
       "    </tr>\n",
       "  </tbody>\n",
       "</table>\n",
       "</div>"
      ],
      "text/plain": [
       "   station_id       stationname        date daytype  rides\n",
       "0       41280    Jefferson Park  12/22/2017       W   6104\n",
       "1       41000  Cermak-Chinatown  12/18/2017       W   3636\n",
       "2       40280      Central-Lake  12/02/2017       A   1270\n",
       "3       40140   Dempster-Skokie  12/19/2017       W   1759\n",
       "4       40690          Dempster  12/03/2017       U    499"
      ]
     },
     "execution_count": 4,
     "metadata": {},
     "output_type": "execute_result"
    }
   ],
   "source": [
    "rides.head()"
   ]
  },
  {
   "cell_type": "code",
   "execution_count": 5,
   "metadata": {},
   "outputs": [
    {
     "name": "stdout",
     "output_type": "stream",
     "text": [
      "<class 'pandas.core.frame.DataFrame'>\n",
      "RangeIndex: 1088958 entries, 0 to 1088957\n",
      "Data columns (total 5 columns):\n",
      " #   Column       Non-Null Count    Dtype \n",
      "---  ------       --------------    ----- \n",
      " 0   station_id   1088958 non-null  int64 \n",
      " 1   stationname  1088958 non-null  object\n",
      " 2   date         1088958 non-null  object\n",
      " 3   daytype      1088958 non-null  object\n",
      " 4   rides        1088958 non-null  int64 \n",
      "dtypes: int64(2), object(3)\n",
      "memory usage: 41.5+ MB\n"
     ]
    }
   ],
   "source": [
    "rides.info()"
   ]
  },
  {
   "cell_type": "code",
   "execution_count": 6,
   "metadata": {},
   "outputs": [],
   "source": [
    "# convert date column to datetime datatype\n",
    "\n",
    "rides['date'] = pd.to_datetime(rides['date'])"
   ]
  },
  {
   "cell_type": "code",
   "execution_count": 7,
   "metadata": {},
   "outputs": [
    {
     "name": "stdout",
     "output_type": "stream",
     "text": [
      "<class 'pandas.core.frame.DataFrame'>\n",
      "RangeIndex: 1088958 entries, 0 to 1088957\n",
      "Data columns (total 5 columns):\n",
      " #   Column       Non-Null Count    Dtype         \n",
      "---  ------       --------------    -----         \n",
      " 0   station_id   1088958 non-null  int64         \n",
      " 1   stationname  1088958 non-null  object        \n",
      " 2   date         1088958 non-null  datetime64[ns]\n",
      " 3   daytype      1088958 non-null  object        \n",
      " 4   rides        1088958 non-null  int64         \n",
      "dtypes: datetime64[ns](1), int64(2), object(2)\n",
      "memory usage: 41.5+ MB\n"
     ]
    }
   ],
   "source": [
    "rides.info()"
   ]
  },
  {
   "cell_type": "code",
   "execution_count": 8,
   "metadata": {},
   "outputs": [
    {
     "data": {
      "text/html": [
       "<div>\n",
       "<style scoped>\n",
       "    .dataframe tbody tr th:only-of-type {\n",
       "        vertical-align: middle;\n",
       "    }\n",
       "\n",
       "    .dataframe tbody tr th {\n",
       "        vertical-align: top;\n",
       "    }\n",
       "\n",
       "    .dataframe thead th {\n",
       "        text-align: right;\n",
       "    }\n",
       "</style>\n",
       "<table border=\"1\" class=\"dataframe\">\n",
       "  <thead>\n",
       "    <tr style=\"text-align: right;\">\n",
       "      <th></th>\n",
       "      <th>stationname</th>\n",
       "      <th>date</th>\n",
       "      <th>daytype</th>\n",
       "      <th>rides</th>\n",
       "    </tr>\n",
       "    <tr>\n",
       "      <th>station_id</th>\n",
       "      <th></th>\n",
       "      <th></th>\n",
       "      <th></th>\n",
       "      <th></th>\n",
       "    </tr>\n",
       "  </thead>\n",
       "  <tbody>\n",
       "    <tr>\n",
       "      <th>40400</th>\n",
       "      <td>Noyes</td>\n",
       "      <td>2001-01-01</td>\n",
       "      <td>A</td>\n",
       "      <td>0</td>\n",
       "    </tr>\n",
       "    <tr>\n",
       "      <th>40420</th>\n",
       "      <td>Cicero-Cermak</td>\n",
       "      <td>2001-01-01</td>\n",
       "      <td>A</td>\n",
       "      <td>0</td>\n",
       "    </tr>\n",
       "    <tr>\n",
       "      <th>40430</th>\n",
       "      <td>Clinton-Forest Park</td>\n",
       "      <td>2001-01-01</td>\n",
       "      <td>A</td>\n",
       "      <td>0</td>\n",
       "    </tr>\n",
       "    <tr>\n",
       "      <th>40550</th>\n",
       "      <td>Irving Park-O'Hare</td>\n",
       "      <td>2001-01-01</td>\n",
       "      <td>A</td>\n",
       "      <td>0</td>\n",
       "    </tr>\n",
       "    <tr>\n",
       "      <th>40450</th>\n",
       "      <td>95th/Dan Ryan</td>\n",
       "      <td>2001-01-01</td>\n",
       "      <td>A</td>\n",
       "      <td>0</td>\n",
       "    </tr>\n",
       "    <tr>\n",
       "      <th>40460</th>\n",
       "      <td>Merchandise Mart</td>\n",
       "      <td>2001-01-01</td>\n",
       "      <td>A</td>\n",
       "      <td>0</td>\n",
       "    </tr>\n",
       "    <tr>\n",
       "      <th>40440</th>\n",
       "      <td>California-Cermak</td>\n",
       "      <td>2001-01-01</td>\n",
       "      <td>A</td>\n",
       "      <td>0</td>\n",
       "    </tr>\n",
       "    <tr>\n",
       "      <th>40480</th>\n",
       "      <td>Cicero-Lake</td>\n",
       "      <td>2001-01-01</td>\n",
       "      <td>A</td>\n",
       "      <td>153</td>\n",
       "    </tr>\n",
       "    <tr>\n",
       "      <th>40490</th>\n",
       "      <td>Grand/Milwaukee</td>\n",
       "      <td>2001-01-01</td>\n",
       "      <td>A</td>\n",
       "      <td>0</td>\n",
       "    </tr>\n",
       "    <tr>\n",
       "      <th>40500</th>\n",
       "      <td>Washington/State</td>\n",
       "      <td>2001-01-01</td>\n",
       "      <td>A</td>\n",
       "      <td>0</td>\n",
       "    </tr>\n",
       "    <tr>\n",
       "      <th>40510</th>\n",
       "      <td>Garfield-South Elevated</td>\n",
       "      <td>2001-01-01</td>\n",
       "      <td>A</td>\n",
       "      <td>3</td>\n",
       "    </tr>\n",
       "    <tr>\n",
       "      <th>40520</th>\n",
       "      <td>Foster</td>\n",
       "      <td>2001-01-01</td>\n",
       "      <td>A</td>\n",
       "      <td>0</td>\n",
       "    </tr>\n",
       "    <tr>\n",
       "      <th>40530</th>\n",
       "      <td>Diversey</td>\n",
       "      <td>2001-01-01</td>\n",
       "      <td>A</td>\n",
       "      <td>0</td>\n",
       "    </tr>\n",
       "    <tr>\n",
       "      <th>40470</th>\n",
       "      <td>Racine</td>\n",
       "      <td>2001-01-01</td>\n",
       "      <td>A</td>\n",
       "      <td>3</td>\n",
       "    </tr>\n",
       "    <tr>\n",
       "      <th>41670</th>\n",
       "      <td>Conservatory</td>\n",
       "      <td>2001-06-01</td>\n",
       "      <td>A</td>\n",
       "      <td>0</td>\n",
       "    </tr>\n",
       "    <tr>\n",
       "      <th>41580</th>\n",
       "      <td>Homan</td>\n",
       "      <td>2001-07-01</td>\n",
       "      <td>A</td>\n",
       "      <td>0</td>\n",
       "    </tr>\n",
       "    <tr>\n",
       "      <th>41680</th>\n",
       "      <td>Oakton-Skokie</td>\n",
       "      <td>2012-04-01</td>\n",
       "      <td>A</td>\n",
       "      <td>0</td>\n",
       "    </tr>\n",
       "    <tr>\n",
       "      <th>41510</th>\n",
       "      <td>Morgan-Lake</td>\n",
       "      <td>2012-05-01</td>\n",
       "      <td>A</td>\n",
       "      <td>0</td>\n",
       "    </tr>\n",
       "    <tr>\n",
       "      <th>41690</th>\n",
       "      <td>Cermak-McCormick Place</td>\n",
       "      <td>2015-01-01</td>\n",
       "      <td>A</td>\n",
       "      <td>0</td>\n",
       "    </tr>\n",
       "    <tr>\n",
       "      <th>41700</th>\n",
       "      <td>Washington/Wabash</td>\n",
       "      <td>2017-08-01</td>\n",
       "      <td>A</td>\n",
       "      <td>0</td>\n",
       "    </tr>\n",
       "  </tbody>\n",
       "</table>\n",
       "</div>"
      ],
      "text/plain": [
       "                        stationname       date daytype  rides\n",
       "station_id                                                   \n",
       "40400                         Noyes 2001-01-01       A      0\n",
       "40420                 Cicero-Cermak 2001-01-01       A      0\n",
       "40430           Clinton-Forest Park 2001-01-01       A      0\n",
       "40550            Irving Park-O'Hare 2001-01-01       A      0\n",
       "40450                 95th/Dan Ryan 2001-01-01       A      0\n",
       "40460              Merchandise Mart 2001-01-01       A      0\n",
       "40440             California-Cermak 2001-01-01       A      0\n",
       "40480                   Cicero-Lake 2001-01-01       A    153\n",
       "40490               Grand/Milwaukee 2001-01-01       A      0\n",
       "40500              Washington/State 2001-01-01       A      0\n",
       "40510       Garfield-South Elevated 2001-01-01       A      3\n",
       "40520                        Foster 2001-01-01       A      0\n",
       "40530                      Diversey 2001-01-01       A      0\n",
       "40470                        Racine 2001-01-01       A      3\n",
       "41670                  Conservatory 2001-06-01       A      0\n",
       "41580                         Homan 2001-07-01       A      0\n",
       "41680                 Oakton-Skokie 2012-04-01       A      0\n",
       "41510                   Morgan-Lake 2012-05-01       A      0\n",
       "41690        Cermak-McCormick Place 2015-01-01       A      0\n",
       "41700             Washington/Wabash 2017-08-01       A      0"
      ]
     },
     "execution_count": 8,
     "metadata": {},
     "output_type": "execute_result"
    }
   ],
   "source": [
    "rides.groupby('station_id').min().sort_values('date').tail(20)  #grand opening dates"
   ]
  },
  {
   "cell_type": "markdown",
   "metadata": {},
   "source": [
    "It appears the following stations opened up within the last 10 years:\n",
    "\n",
    "41680\tOakton-Skokie\t2012-04-01\tA\t0  \n",
    "41510\tMorgan-Lake\t2012-05-01\tA\t0  \n",
    "41690\tCermak-McCormick Place\t2015-01-01\tA\t0  \n",
    "41700\tWashington/Wabash\t2017-08-01\tA\t0"
   ]
  },
  {
   "cell_type": "code",
   "execution_count": 9,
   "metadata": {},
   "outputs": [
    {
     "data": {
      "text/html": [
       "<div>\n",
       "<style scoped>\n",
       "    .dataframe tbody tr th:only-of-type {\n",
       "        vertical-align: middle;\n",
       "    }\n",
       "\n",
       "    .dataframe tbody tr th {\n",
       "        vertical-align: top;\n",
       "    }\n",
       "\n",
       "    .dataframe thead th {\n",
       "        text-align: right;\n",
       "    }\n",
       "</style>\n",
       "<table border=\"1\" class=\"dataframe\">\n",
       "  <thead>\n",
       "    <tr style=\"text-align: right;\">\n",
       "      <th></th>\n",
       "      <th>stationname</th>\n",
       "      <th>date</th>\n",
       "      <th>daytype</th>\n",
       "      <th>rides</th>\n",
       "    </tr>\n",
       "    <tr>\n",
       "      <th>station_id</th>\n",
       "      <th></th>\n",
       "      <th></th>\n",
       "      <th></th>\n",
       "      <th></th>\n",
       "    </tr>\n",
       "  </thead>\n",
       "  <tbody>\n",
       "    <tr>\n",
       "      <th>41580</th>\n",
       "      <td>Homan</td>\n",
       "      <td>2001-07-31</td>\n",
       "      <td>W</td>\n",
       "      <td>27</td>\n",
       "    </tr>\n",
       "    <tr>\n",
       "      <th>40500</th>\n",
       "      <td>Washington/State</td>\n",
       "      <td>2009-01-31</td>\n",
       "      <td>W</td>\n",
       "      <td>12442</td>\n",
       "    </tr>\n",
       "    <tr>\n",
       "      <th>40640</th>\n",
       "      <td>Madison/Wabash</td>\n",
       "      <td>2018-01-01</td>\n",
       "      <td>W</td>\n",
       "      <td>12519</td>\n",
       "    </tr>\n",
       "    <tr>\n",
       "      <th>40200</th>\n",
       "      <td>Randolph/Wabash</td>\n",
       "      <td>2019-01-31</td>\n",
       "      <td>W</td>\n",
       "      <td>19181</td>\n",
       "    </tr>\n",
       "    <tr>\n",
       "      <th>41130</th>\n",
       "      <td>Halsted-Orange</td>\n",
       "      <td>2021-11-30</td>\n",
       "      <td>W</td>\n",
       "      <td>6763</td>\n",
       "    </tr>\n",
       "    <tr>\n",
       "      <th>41090</th>\n",
       "      <td>Monroe/State</td>\n",
       "      <td>2021-11-30</td>\n",
       "      <td>W</td>\n",
       "      <td>17702</td>\n",
       "    </tr>\n",
       "    <tr>\n",
       "      <th>41080</th>\n",
       "      <td>47th-South Elevated</td>\n",
       "      <td>2021-11-30</td>\n",
       "      <td>W</td>\n",
       "      <td>2795</td>\n",
       "    </tr>\n",
       "    <tr>\n",
       "      <th>41070</th>\n",
       "      <td>Kedzie-Lake</td>\n",
       "      <td>2021-11-30</td>\n",
       "      <td>W</td>\n",
       "      <td>2281</td>\n",
       "    </tr>\n",
       "    <tr>\n",
       "      <th>41060</th>\n",
       "      <td>Ashland-Orange</td>\n",
       "      <td>2021-11-30</td>\n",
       "      <td>W</td>\n",
       "      <td>2283</td>\n",
       "    </tr>\n",
       "    <tr>\n",
       "      <th>40990</th>\n",
       "      <td>69th</td>\n",
       "      <td>2021-11-30</td>\n",
       "      <td>W</td>\n",
       "      <td>8740</td>\n",
       "    </tr>\n",
       "    <tr>\n",
       "      <th>41050</th>\n",
       "      <td>Linden</td>\n",
       "      <td>2021-11-30</td>\n",
       "      <td>W</td>\n",
       "      <td>2911</td>\n",
       "    </tr>\n",
       "    <tr>\n",
       "      <th>41040</th>\n",
       "      <td>Kedzie-Cermak</td>\n",
       "      <td>2021-11-30</td>\n",
       "      <td>W</td>\n",
       "      <td>4906</td>\n",
       "    </tr>\n",
       "    <tr>\n",
       "      <th>41030</th>\n",
       "      <td>Polk</td>\n",
       "      <td>2021-11-30</td>\n",
       "      <td>W</td>\n",
       "      <td>4512</td>\n",
       "    </tr>\n",
       "    <tr>\n",
       "      <th>41140</th>\n",
       "      <td>King Drive</td>\n",
       "      <td>2021-11-30</td>\n",
       "      <td>W</td>\n",
       "      <td>1343</td>\n",
       "    </tr>\n",
       "    <tr>\n",
       "      <th>41020</th>\n",
       "      <td>Logan Square</td>\n",
       "      <td>2021-11-30</td>\n",
       "      <td>W</td>\n",
       "      <td>13154</td>\n",
       "    </tr>\n",
       "    <tr>\n",
       "      <th>41010</th>\n",
       "      <td>Rockwell</td>\n",
       "      <td>2021-11-30</td>\n",
       "      <td>W</td>\n",
       "      <td>2519</td>\n",
       "    </tr>\n",
       "    <tr>\n",
       "      <th>41000</th>\n",
       "      <td>Cermak-Chinatown</td>\n",
       "      <td>2021-11-30</td>\n",
       "      <td>W</td>\n",
       "      <td>12698</td>\n",
       "    </tr>\n",
       "    <tr>\n",
       "      <th>41120</th>\n",
       "      <td>35-Bronzeville-IIT</td>\n",
       "      <td>2021-11-30</td>\n",
       "      <td>W</td>\n",
       "      <td>8532</td>\n",
       "    </tr>\n",
       "    <tr>\n",
       "      <th>40980</th>\n",
       "      <td>Harlem-Forest Park</td>\n",
       "      <td>2021-11-30</td>\n",
       "      <td>W</td>\n",
       "      <td>2010</td>\n",
       "    </tr>\n",
       "    <tr>\n",
       "      <th>40010</th>\n",
       "      <td>Austin-Forest Park</td>\n",
       "      <td>2021-11-30</td>\n",
       "      <td>W</td>\n",
       "      <td>3226</td>\n",
       "    </tr>\n",
       "  </tbody>\n",
       "</table>\n",
       "</div>"
      ],
      "text/plain": [
       "                    stationname       date daytype  rides\n",
       "station_id                                               \n",
       "41580                     Homan 2001-07-31       W     27\n",
       "40500          Washington/State 2009-01-31       W  12442\n",
       "40640            Madison/Wabash 2018-01-01       W  12519\n",
       "40200           Randolph/Wabash 2019-01-31       W  19181\n",
       "41130            Halsted-Orange 2021-11-30       W   6763\n",
       "41090              Monroe/State 2021-11-30       W  17702\n",
       "41080       47th-South Elevated 2021-11-30       W   2795\n",
       "41070               Kedzie-Lake 2021-11-30       W   2281\n",
       "41060            Ashland-Orange 2021-11-30       W   2283\n",
       "40990                      69th 2021-11-30       W   8740\n",
       "41050                    Linden 2021-11-30       W   2911\n",
       "41040             Kedzie-Cermak 2021-11-30       W   4906\n",
       "41030                      Polk 2021-11-30       W   4512\n",
       "41140                King Drive 2021-11-30       W   1343\n",
       "41020              Logan Square 2021-11-30       W  13154\n",
       "41010                  Rockwell 2021-11-30       W   2519\n",
       "41000          Cermak-Chinatown 2021-11-30       W  12698\n",
       "41120        35-Bronzeville-IIT 2021-11-30       W   8532\n",
       "40980        Harlem-Forest Park 2021-11-30       W   2010\n",
       "40010        Austin-Forest Park 2021-11-30       W   3226"
      ]
     },
     "execution_count": 9,
     "metadata": {},
     "output_type": "execute_result"
    }
   ],
   "source": [
    "rides.groupby('station_id').max().sort_values('date').head(20)  # station closure dates"
   ]
  },
  {
   "cell_type": "markdown",
   "metadata": {},
   "source": [
    "The following stations appear to have closed in the last 20 years:\n",
    "\n",
    "41580\tHoman\t07/31/2001\tW\t27  \n",
    "40500\tWashington/State\t12/31/2008\tW\t12442  \n",
    "40640\tMadison/Wabash\t12/31/2017\tW\t12519  \n",
    "40200\tRandolph/Wabash\t12/31/2018\tW\t19181"
   ]
  },
  {
   "cell_type": "code",
   "execution_count": 10,
   "metadata": {},
   "outputs": [],
   "source": [
    "station_id_exclusions = [40200,40640,40500,41580,41680,41510,41690,41700]"
   ]
  },
  {
   "cell_type": "markdown",
   "metadata": {},
   "source": [
    "## Need to get the series in a time order\n",
    "\n",
    "Create rides2"
   ]
  },
  {
   "cell_type": "code",
   "execution_count": 11,
   "metadata": {},
   "outputs": [],
   "source": [
    "rides2 = rides.copy()"
   ]
  },
  {
   "cell_type": "code",
   "execution_count": 12,
   "metadata": {},
   "outputs": [],
   "source": [
    "rides2.index = [pd.Index(rides2['station_id']), pd.DatetimeIndex(rides2['date'])]"
   ]
  },
  {
   "cell_type": "code",
   "execution_count": 13,
   "metadata": {},
   "outputs": [],
   "source": [
    "rides2 = rides2.sort_index()"
   ]
  },
  {
   "cell_type": "code",
   "execution_count": 14,
   "metadata": {},
   "outputs": [
    {
     "data": {
      "text/html": [
       "<div>\n",
       "<style scoped>\n",
       "    .dataframe tbody tr th:only-of-type {\n",
       "        vertical-align: middle;\n",
       "    }\n",
       "\n",
       "    .dataframe tbody tr th {\n",
       "        vertical-align: top;\n",
       "    }\n",
       "\n",
       "    .dataframe thead th {\n",
       "        text-align: right;\n",
       "    }\n",
       "</style>\n",
       "<table border=\"1\" class=\"dataframe\">\n",
       "  <thead>\n",
       "    <tr style=\"text-align: right;\">\n",
       "      <th></th>\n",
       "      <th></th>\n",
       "      <th>station_id</th>\n",
       "      <th>stationname</th>\n",
       "      <th>date</th>\n",
       "      <th>daytype</th>\n",
       "      <th>rides</th>\n",
       "    </tr>\n",
       "    <tr>\n",
       "      <th>station_id</th>\n",
       "      <th>date</th>\n",
       "      <th></th>\n",
       "      <th></th>\n",
       "      <th></th>\n",
       "      <th></th>\n",
       "      <th></th>\n",
       "    </tr>\n",
       "  </thead>\n",
       "  <tbody>\n",
       "    <tr>\n",
       "      <th rowspan=\"5\" valign=\"top\">40010</th>\n",
       "      <th>2001-01-01</th>\n",
       "      <td>40010</td>\n",
       "      <td>Austin-Forest Park</td>\n",
       "      <td>2001-01-01</td>\n",
       "      <td>U</td>\n",
       "      <td>290</td>\n",
       "    </tr>\n",
       "    <tr>\n",
       "      <th>2001-01-02</th>\n",
       "      <td>40010</td>\n",
       "      <td>Austin-Forest Park</td>\n",
       "      <td>2001-01-02</td>\n",
       "      <td>W</td>\n",
       "      <td>1240</td>\n",
       "    </tr>\n",
       "    <tr>\n",
       "      <th>2001-01-03</th>\n",
       "      <td>40010</td>\n",
       "      <td>Austin-Forest Park</td>\n",
       "      <td>2001-01-03</td>\n",
       "      <td>W</td>\n",
       "      <td>1412</td>\n",
       "    </tr>\n",
       "    <tr>\n",
       "      <th>2001-01-04</th>\n",
       "      <td>40010</td>\n",
       "      <td>Austin-Forest Park</td>\n",
       "      <td>2001-01-04</td>\n",
       "      <td>W</td>\n",
       "      <td>1388</td>\n",
       "    </tr>\n",
       "    <tr>\n",
       "      <th>2001-01-05</th>\n",
       "      <td>40010</td>\n",
       "      <td>Austin-Forest Park</td>\n",
       "      <td>2001-01-05</td>\n",
       "      <td>W</td>\n",
       "      <td>1465</td>\n",
       "    </tr>\n",
       "  </tbody>\n",
       "</table>\n",
       "</div>"
      ],
      "text/plain": [
       "                       station_id         stationname       date daytype  \\\n",
       "station_id date                                                            \n",
       "40010      2001-01-01       40010  Austin-Forest Park 2001-01-01       U   \n",
       "           2001-01-02       40010  Austin-Forest Park 2001-01-02       W   \n",
       "           2001-01-03       40010  Austin-Forest Park 2001-01-03       W   \n",
       "           2001-01-04       40010  Austin-Forest Park 2001-01-04       W   \n",
       "           2001-01-05       40010  Austin-Forest Park 2001-01-05       W   \n",
       "\n",
       "                       rides  \n",
       "station_id date               \n",
       "40010      2001-01-01    290  \n",
       "           2001-01-02   1240  \n",
       "           2001-01-03   1412  \n",
       "           2001-01-04   1388  \n",
       "           2001-01-05   1465  "
      ]
     },
     "execution_count": 14,
     "metadata": {},
     "output_type": "execute_result"
    }
   ],
   "source": [
    "rides2.head()"
   ]
  },
  {
   "cell_type": "markdown",
   "metadata": {},
   "source": [
    "Naming conventions: I think Austin-Forest Park means Austin station on the Forest Park branch."
   ]
  },
  {
   "cell_type": "code",
   "execution_count": 15,
   "metadata": {},
   "outputs": [
    {
     "data": {
      "text/html": [
       "<div>\n",
       "<style scoped>\n",
       "    .dataframe tbody tr th:only-of-type {\n",
       "        vertical-align: middle;\n",
       "    }\n",
       "\n",
       "    .dataframe tbody tr th {\n",
       "        vertical-align: top;\n",
       "    }\n",
       "\n",
       "    .dataframe thead th {\n",
       "        text-align: right;\n",
       "    }\n",
       "</style>\n",
       "<table border=\"1\" class=\"dataframe\">\n",
       "  <thead>\n",
       "    <tr style=\"text-align: right;\">\n",
       "      <th></th>\n",
       "      <th>station_id</th>\n",
       "      <th>stationname</th>\n",
       "      <th>date</th>\n",
       "      <th>daytype</th>\n",
       "      <th>rides</th>\n",
       "    </tr>\n",
       "    <tr>\n",
       "      <th>date</th>\n",
       "      <th></th>\n",
       "      <th></th>\n",
       "      <th></th>\n",
       "      <th></th>\n",
       "      <th></th>\n",
       "    </tr>\n",
       "  </thead>\n",
       "  <tbody>\n",
       "    <tr>\n",
       "      <th>2001-01-01</th>\n",
       "      <td>40010</td>\n",
       "      <td>Austin-Forest Park</td>\n",
       "      <td>2001-01-01</td>\n",
       "      <td>U</td>\n",
       "      <td>290</td>\n",
       "    </tr>\n",
       "    <tr>\n",
       "      <th>2001-01-02</th>\n",
       "      <td>40010</td>\n",
       "      <td>Austin-Forest Park</td>\n",
       "      <td>2001-01-02</td>\n",
       "      <td>W</td>\n",
       "      <td>1240</td>\n",
       "    </tr>\n",
       "    <tr>\n",
       "      <th>2001-01-03</th>\n",
       "      <td>40010</td>\n",
       "      <td>Austin-Forest Park</td>\n",
       "      <td>2001-01-03</td>\n",
       "      <td>W</td>\n",
       "      <td>1412</td>\n",
       "    </tr>\n",
       "    <tr>\n",
       "      <th>2001-01-04</th>\n",
       "      <td>40010</td>\n",
       "      <td>Austin-Forest Park</td>\n",
       "      <td>2001-01-04</td>\n",
       "      <td>W</td>\n",
       "      <td>1388</td>\n",
       "    </tr>\n",
       "    <tr>\n",
       "      <th>2001-01-05</th>\n",
       "      <td>40010</td>\n",
       "      <td>Austin-Forest Park</td>\n",
       "      <td>2001-01-05</td>\n",
       "      <td>W</td>\n",
       "      <td>1465</td>\n",
       "    </tr>\n",
       "    <tr>\n",
       "      <th>...</th>\n",
       "      <td>...</td>\n",
       "      <td>...</td>\n",
       "      <td>...</td>\n",
       "      <td>...</td>\n",
       "      <td>...</td>\n",
       "    </tr>\n",
       "    <tr>\n",
       "      <th>2021-11-26</th>\n",
       "      <td>40010</td>\n",
       "      <td>Austin-Forest Park</td>\n",
       "      <td>2021-11-26</td>\n",
       "      <td>W</td>\n",
       "      <td>350</td>\n",
       "    </tr>\n",
       "    <tr>\n",
       "      <th>2021-11-27</th>\n",
       "      <td>40010</td>\n",
       "      <td>Austin-Forest Park</td>\n",
       "      <td>2021-11-27</td>\n",
       "      <td>A</td>\n",
       "      <td>282</td>\n",
       "    </tr>\n",
       "    <tr>\n",
       "      <th>2021-11-28</th>\n",
       "      <td>40010</td>\n",
       "      <td>Austin-Forest Park</td>\n",
       "      <td>2021-11-28</td>\n",
       "      <td>U</td>\n",
       "      <td>239</td>\n",
       "    </tr>\n",
       "    <tr>\n",
       "      <th>2021-11-29</th>\n",
       "      <td>40010</td>\n",
       "      <td>Austin-Forest Park</td>\n",
       "      <td>2021-11-29</td>\n",
       "      <td>W</td>\n",
       "      <td>646</td>\n",
       "    </tr>\n",
       "    <tr>\n",
       "      <th>2021-11-30</th>\n",
       "      <td>40010</td>\n",
       "      <td>Austin-Forest Park</td>\n",
       "      <td>2021-11-30</td>\n",
       "      <td>W</td>\n",
       "      <td>676</td>\n",
       "    </tr>\n",
       "  </tbody>\n",
       "</table>\n",
       "<p>7642 rows × 5 columns</p>\n",
       "</div>"
      ],
      "text/plain": [
       "            station_id         stationname       date daytype  rides\n",
       "date                                                                \n",
       "2001-01-01       40010  Austin-Forest Park 2001-01-01       U    290\n",
       "2001-01-02       40010  Austin-Forest Park 2001-01-02       W   1240\n",
       "2001-01-03       40010  Austin-Forest Park 2001-01-03       W   1412\n",
       "2001-01-04       40010  Austin-Forest Park 2001-01-04       W   1388\n",
       "2001-01-05       40010  Austin-Forest Park 2001-01-05       W   1465\n",
       "...                ...                 ...        ...     ...    ...\n",
       "2021-11-26       40010  Austin-Forest Park 2021-11-26       W    350\n",
       "2021-11-27       40010  Austin-Forest Park 2021-11-27       A    282\n",
       "2021-11-28       40010  Austin-Forest Park 2021-11-28       U    239\n",
       "2021-11-29       40010  Austin-Forest Park 2021-11-29       W    646\n",
       "2021-11-30       40010  Austin-Forest Park 2021-11-30       W    676\n",
       "\n",
       "[7642 rows x 5 columns]"
      ]
     },
     "execution_count": 15,
     "metadata": {},
     "output_type": "execute_result"
    }
   ],
   "source": [
    "rides2.loc[40010] # this is our time series for the station Austin-Forest Park!"
   ]
  },
  {
   "cell_type": "markdown",
   "metadata": {},
   "source": [
    "### Create time series"
   ]
  },
  {
   "cell_type": "code",
   "execution_count": 16,
   "metadata": {},
   "outputs": [
    {
     "data": {
      "text/plain": [
       "date\n",
       "2001-01-01     290\n",
       "2001-01-02    1240\n",
       "2001-01-03    1412\n",
       "2001-01-04    1388\n",
       "2001-01-05    1465\n",
       "              ... \n",
       "2021-11-26     350\n",
       "2021-11-27     282\n",
       "2021-11-28     239\n",
       "2021-11-29     646\n",
       "2021-11-30     676\n",
       "Name: rides, Length: 7642, dtype: int64"
      ]
     },
     "execution_count": 16,
     "metadata": {},
     "output_type": "execute_result"
    }
   ],
   "source": [
    "rides2.loc[40010,'rides'] # this one is just the rides!"
   ]
  },
  {
   "cell_type": "code",
   "execution_count": 17,
   "metadata": {},
   "outputs": [
    {
     "data": {
      "text/plain": [
       "date\n",
       "2017-01-01     553\n",
       "2017-01-02     746\n",
       "2017-01-03    1676\n",
       "2017-01-04    1664\n",
       "2017-01-05    1590\n",
       "              ... \n",
       "2017-12-27    1074\n",
       "2017-12-28    1155\n",
       "2017-12-29    1153\n",
       "2017-12-30     587\n",
       "2017-12-31     511\n",
       "Name: rides, Length: 365, dtype: int64"
      ]
     },
     "execution_count": 17,
     "metadata": {},
     "output_type": "execute_result"
    }
   ],
   "source": [
    "# to deal with all the indexing, I recommend using two lines of code\n",
    "\n",
    "smaller = rides2.loc[40010,'rides']\n",
    "\n",
    "smaller['2017'] # gets down to the data we want"
   ]
  },
  {
   "cell_type": "code",
   "execution_count": 18,
   "metadata": {},
   "outputs": [
    {
     "data": {
      "image/png": "[encoded data removed]",
      "text/plain": [
       "<Figure size 864x432 with 1 Axes>"
      ]
     },
     "metadata": {
      "needs_background": "light"
     },
     "output_type": "display_data"
    }
   ],
   "source": [
    "plt.figure(figsize=(12,6))\n",
    "plt.title('Austin-Forest Park station daily rides')\n",
    "plt.xlabel('Time Steps')\n",
    "plt.ylabel('x')\n",
    "plt.plot(rides2.loc[40010,'rides'])\n",
    "plt.show()"
   ]
  },
  {
   "cell_type": "markdown",
   "metadata": {},
   "source": [
    "### Plot a single year of a station"
   ]
  },
  {
   "cell_type": "code",
   "execution_count": 19,
   "metadata": {},
   "outputs": [
    {
     "data": {
      "image/png": "[encoded data removed]",
      "text/plain": [
       "<Figure size 864x432 with 1 Axes>"
      ]
     },
     "metadata": {
      "needs_background": "light"
     },
     "output_type": "display_data"
    }
   ],
   "source": [
    "smaller = rides2.loc[40010,'rides']\n",
    "\n",
    "plt.figure(figsize=(12,6))\n",
    "plt.title('Austin-Forest Park station daily rides 2017')\n",
    "plt.xlabel('Date')\n",
    "plt.ylabel('Rides')\n",
    "plt.plot(smaller['2017'])\n",
    "plt.show()"
   ]
  },
  {
   "cell_type": "code",
   "execution_count": 20,
   "metadata": {},
   "outputs": [
    {
     "data": {
      "text/html": [
       "<div>\n",
       "<style scoped>\n",
       "    .dataframe tbody tr th:only-of-type {\n",
       "        vertical-align: middle;\n",
       "    }\n",
       "\n",
       "    .dataframe tbody tr th {\n",
       "        vertical-align: top;\n",
       "    }\n",
       "\n",
       "    .dataframe thead th {\n",
       "        text-align: right;\n",
       "    }\n",
       "</style>\n",
       "<table border=\"1\" class=\"dataframe\">\n",
       "  <thead>\n",
       "    <tr style=\"text-align: right;\">\n",
       "      <th></th>\n",
       "      <th>STATION_ID</th>\n",
       "      <th>LONGNAME</th>\n",
       "      <th>LINES</th>\n",
       "      <th>ADDRESS</th>\n",
       "      <th>ADA</th>\n",
       "      <th>PKNRD</th>\n",
       "      <th>POINT_X</th>\n",
       "      <th>POINT_Y</th>\n",
       "      <th>GTFS</th>\n",
       "      <th>geometry</th>\n",
       "    </tr>\n",
       "  </thead>\n",
       "  <tbody>\n",
       "    <tr>\n",
       "      <th>5</th>\n",
       "      <td>1480</td>\n",
       "      <td>Western-Ravenswood</td>\n",
       "      <td>Brown Line</td>\n",
       "      <td>4645 N. Western Avenue</td>\n",
       "      <td>1</td>\n",
       "      <td>0</td>\n",
       "      <td>1.159616e+06</td>\n",
       "      <td>1.930951e+06</td>\n",
       "      <td>41480</td>\n",
       "      <td>POINT (1159616.195 1930951.298)</td>\n",
       "    </tr>\n",
       "    <tr>\n",
       "      <th>7</th>\n",
       "      <td>90</td>\n",
       "      <td>Damen-Ravenswood</td>\n",
       "      <td>Brown Line</td>\n",
       "      <td>4643 N. Damen Avenue</td>\n",
       "      <td>1</td>\n",
       "      <td>0</td>\n",
       "      <td>1.162299e+06</td>\n",
       "      <td>1.931030e+06</td>\n",
       "      <td>40090</td>\n",
       "      <td>POINT (1162299.355 1931030.291)</td>\n",
       "    </tr>\n",
       "    <tr>\n",
       "      <th>13</th>\n",
       "      <td>590</td>\n",
       "      <td>Damen/Milwaukee</td>\n",
       "      <td>Blue Line</td>\n",
       "      <td>1558 N. Damen Avenue</td>\n",
       "      <td>0</td>\n",
       "      <td>0</td>\n",
       "      <td>1.162783e+06</td>\n",
       "      <td>1.910383e+06</td>\n",
       "      <td>40590</td>\n",
       "      <td>POINT (1162783.214 1910383.122)</td>\n",
       "    </tr>\n",
       "    <tr>\n",
       "      <th>29</th>\n",
       "      <td>670</td>\n",
       "      <td>Western/Milwaukee</td>\n",
       "      <td>Blue Line (O'Hare)</td>\n",
       "      <td>1909 N. Western Avenue</td>\n",
       "      <td>1</td>\n",
       "      <td>0</td>\n",
       "      <td>1.160063e+06</td>\n",
       "      <td>1.912700e+06</td>\n",
       "      <td>40670</td>\n",
       "      <td>POINT (1160063.300 1912699.749)</td>\n",
       "    </tr>\n",
       "    <tr>\n",
       "      <th>58</th>\n",
       "      <td>740</td>\n",
       "      <td>Western-Douglas</td>\n",
       "      <td>Pink</td>\n",
       "      <td>2009 S. Western Avenue</td>\n",
       "      <td>1</td>\n",
       "      <td>0</td>\n",
       "      <td>1.160828e+06</td>\n",
       "      <td>1.890199e+06</td>\n",
       "      <td>40740</td>\n",
       "      <td>POINT (1160828.021 1890198.733)</td>\n",
       "    </tr>\n",
       "    <tr>\n",
       "      <th>69</th>\n",
       "      <td>220</td>\n",
       "      <td>Western-Congress</td>\n",
       "      <td>Blue Line (Congress)</td>\n",
       "      <td>430 S. Western Avenue</td>\n",
       "      <td>0</td>\n",
       "      <td>0</td>\n",
       "      <td>1.159883e+06</td>\n",
       "      <td>1.897893e+06</td>\n",
       "      <td>40220</td>\n",
       "      <td>POINT (1159883.323 1897892.778)</td>\n",
       "    </tr>\n",
       "    <tr>\n",
       "      <th>108</th>\n",
       "      <td>310</td>\n",
       "      <td>Western-Midway</td>\n",
       "      <td>Orange Line</td>\n",
       "      <td>4901 S. Western Avenue</td>\n",
       "      <td>1</td>\n",
       "      <td>1</td>\n",
       "      <td>1.161268e+06</td>\n",
       "      <td>1.872086e+06</td>\n",
       "      <td>40310</td>\n",
       "      <td>POINT (1161268.486 1872085.727)</td>\n",
       "    </tr>\n",
       "    <tr>\n",
       "      <th>117</th>\n",
       "      <td>630</td>\n",
       "      <td>Clark/Division</td>\n",
       "      <td>Red Line</td>\n",
       "      <td>1200 N. Clark Street</td>\n",
       "      <td>1</td>\n",
       "      <td>0</td>\n",
       "      <td>1.175328e+06</td>\n",
       "      <td>1.908360e+06</td>\n",
       "      <td>40630</td>\n",
       "      <td>POINT (1175328.346 1908360.200)</td>\n",
       "    </tr>\n",
       "    <tr>\n",
       "      <th>123</th>\n",
       "      <td>320</td>\n",
       "      <td>Division/Milwaukee</td>\n",
       "      <td>Blue Line</td>\n",
       "      <td>1200 N. Milwaukee Avenue</td>\n",
       "      <td>0</td>\n",
       "      <td>0</td>\n",
       "      <td>1.165779e+06</td>\n",
       "      <td>1.908078e+06</td>\n",
       "      <td>40320</td>\n",
       "      <td>POINT (1165779.324 1908078.036)</td>\n",
       "    </tr>\n",
       "    <tr>\n",
       "      <th>135</th>\n",
       "      <td>210</td>\n",
       "      <td>Damen</td>\n",
       "      <td>Pink</td>\n",
       "      <td>2010 S. Damen Avenue</td>\n",
       "      <td>1</td>\n",
       "      <td>0</td>\n",
       "      <td>1.163335e+06</td>\n",
       "      <td>1.890261e+06</td>\n",
       "      <td>40210</td>\n",
       "      <td>POINT (1163335.476 1890260.805)</td>\n",
       "    </tr>\n",
       "  </tbody>\n",
       "</table>\n",
       "</div>"
      ],
      "text/plain": [
       "     STATION_ID            LONGNAME                 LINES  \\\n",
       "5          1480  Western-Ravenswood            Brown Line   \n",
       "7            90    Damen-Ravenswood            Brown Line   \n",
       "13          590     Damen/Milwaukee             Blue Line   \n",
       "29          670   Western/Milwaukee    Blue Line (O'Hare)   \n",
       "58          740     Western-Douglas                  Pink   \n",
       "69          220    Western-Congress  Blue Line (Congress)   \n",
       "108         310      Western-Midway           Orange Line   \n",
       "117         630      Clark/Division              Red Line   \n",
       "123         320  Division/Milwaukee             Blue Line   \n",
       "135         210               Damen                  Pink   \n",
       "\n",
       "                      ADDRESS  ADA  PKNRD       POINT_X       POINT_Y   GTFS  \\\n",
       "5      4645 N. Western Avenue    1      0  1.159616e+06  1.930951e+06  41480   \n",
       "7        4643 N. Damen Avenue    1      0  1.162299e+06  1.931030e+06  40090   \n",
       "13       1558 N. Damen Avenue    0      0  1.162783e+06  1.910383e+06  40590   \n",
       "29     1909 N. Western Avenue    1      0  1.160063e+06  1.912700e+06  40670   \n",
       "58     2009 S. Western Avenue    1      0  1.160828e+06  1.890199e+06  40740   \n",
       "69      430 S. Western Avenue    0      0  1.159883e+06  1.897893e+06  40220   \n",
       "108    4901 S. Western Avenue    1      1  1.161268e+06  1.872086e+06  40310   \n",
       "117      1200 N. Clark Street    1      0  1.175328e+06  1.908360e+06  40630   \n",
       "123  1200 N. Milwaukee Avenue    0      0  1.165779e+06  1.908078e+06  40320   \n",
       "135      2010 S. Damen Avenue    1      0  1.163335e+06  1.890261e+06  40210   \n",
       "\n",
       "                            geometry  \n",
       "5    POINT (1159616.195 1930951.298)  \n",
       "7    POINT (1162299.355 1931030.291)  \n",
       "13   POINT (1162783.214 1910383.122)  \n",
       "29   POINT (1160063.300 1912699.749)  \n",
       "58   POINT (1160828.021 1890198.733)  \n",
       "69   POINT (1159883.323 1897892.778)  \n",
       "108  POINT (1161268.486 1872085.727)  \n",
       "117  POINT (1175328.346 1908360.200)  \n",
       "123  POINT (1165779.324 1908078.036)  \n",
       "135  POINT (1163335.476 1890260.805)  "
      ]
     },
     "execution_count": 20,
     "metadata": {},
     "output_type": "execute_result"
    }
   ],
   "source": [
    "stations.loc[stations['LONGNAME'].str.contains('Division') |\n",
    "             stations['LONGNAME'].str.contains('Damen') |\n",
    "             stations['LONGNAME'].str.contains('Western')]"
   ]
  },
  {
   "cell_type": "markdown",
   "metadata": {},
   "source": [
    "41480 Western on Brown  \n",
    "40090 Damen on Brown  \n",
    "40320 Division on Blue"
   ]
  },
  {
   "cell_type": "code",
   "execution_count": 21,
   "metadata": {},
   "outputs": [
    {
     "data": {
      "image/png": "[encoded data removed]",
      "text/plain": [
       "<Figure size 864x432 with 1 Axes>"
      ]
     },
     "metadata": {
      "needs_background": "light"
     },
     "output_type": "display_data"
    }
   ],
   "source": [
    "smaller = rides2.loc[41480,'rides']\n",
    "\n",
    "plt.figure(figsize=(12,6))\n",
    "plt.title('Western station (Brown Line) daily rides 2017')\n",
    "plt.xlabel('Date')\n",
    "plt.ylabel('Rides')\n",
    "plt.plot(smaller['2017'])\n",
    "plt.show()"
   ]
  },
  {
   "cell_type": "markdown",
   "metadata": {},
   "source": [
    "Interesting: two of the weekends have *upticks* in usage!"
   ]
  },
  {
   "cell_type": "code",
   "execution_count": 22,
   "metadata": {},
   "outputs": [
    {
     "data": {
      "image/png": "[encoded data removed]",
      "text/plain": [
       "<Figure size 864x432 with 1 Axes>"
      ]
     },
     "metadata": {
      "needs_background": "light"
     },
     "output_type": "display_data"
    }
   ],
   "source": [
    "smaller = rides2.loc[41480,'rides']\n",
    "\n",
    "plt.figure(figsize=(12,6))\n",
    "plt.title('Western station (Brown Line) daily rides 2015')\n",
    "plt.xlabel('Date')\n",
    "plt.ylabel('Rides')\n",
    "plt.plot(smaller['2015'])\n",
    "plt.show()"
   ]
  },
  {
   "cell_type": "code",
   "execution_count": 23,
   "metadata": {},
   "outputs": [
    {
     "data": {
      "image/png": "[encoded data removed]",
      "text/plain": [
       "<Figure size 864x432 with 1 Axes>"
      ]
     },
     "metadata": {
      "needs_background": "light"
     },
     "output_type": "display_data"
    }
   ],
   "source": [
    "smaller = rides2.loc[41480,'rides']\n",
    "\n",
    "plt.figure(figsize=(12,6))\n",
    "plt.title('Western station (Brown Line) daily rides 2016')\n",
    "plt.xlabel('Date')\n",
    "plt.ylabel('Rides')\n",
    "plt.plot(smaller['2016'])\n",
    "plt.show()"
   ]
  },
  {
   "cell_type": "markdown",
   "metadata": {},
   "source": [
    "### Analyze Western (Brown) statistics\n",
    "\n",
    "We will analyze 2015-2017 to get these statistics."
   ]
  },
  {
   "cell_type": "code",
   "execution_count": 25,
   "metadata": {},
   "outputs": [],
   "source": [
    "ws01 = rides2.loc[41480,'rides'] # working series 01\n",
    "\n",
    "lag1AC = np.corrcoef(ws01['2015-01-01':'2017-12-30'],ws01['2015-01-02':'2017-12-31'])[0,1] # note that time slices are inclusive\n",
    "\n",
    "variance = np.var(ws01['2015':'2017'])\n",
    "\n",
    "std = np.std(ws01['2015':'2017'])\n",
    "\n",
    "mean = np.mean(ws01['2015':'2017'])\n",
    "\n",
    "scaled_std = std/mean"
   ]
  },
  {
   "cell_type": "markdown",
   "metadata": {},
   "source": [
    "### Analyze statistics for all stations"
   ]
  },
  {
   "cell_type": "code",
   "execution_count": 26,
   "metadata": {},
   "outputs": [],
   "source": [
    "# create stations2 dataset - conatins only the stations we'll be studying\n",
    "\n",
    "stations2 = stations.copy()\n",
    "\n",
    "stations2 = stations2.loc[~stations2['GTFS'].isin(station_id_exclusions),:]\n",
    "\n",
    "stations2.at[stations2['STATION_ID']==1400,'LINES'] = 'Red, Orange, Green' # fix description for Roosevelt/State\n",
    "\n",
    "stations2.drop([95], axis=0, inplace=True) # drop unused station - Roosevelt/Wabash\n",
    "\n",
    "stations2.at[stations2['STATION_ID']==1660,'GTFS'] = 41660 # correct GTFS for Lake/State"
   ]
  },
  {
   "cell_type": "code",
   "execution_count": 27,
   "metadata": {},
   "outputs": [
    {
     "data": {
      "text/plain": [
       "(139, 10)"
      ]
     },
     "execution_count": 27,
     "metadata": {},
     "output_type": "execute_result"
    }
   ],
   "source": [
    "stations2.shape"
   ]
  },
  {
   "cell_type": "code",
   "execution_count": 60,
   "metadata": {},
   "outputs": [],
   "source": [
    "# create rides3 dataset - contains only the stations we'll be studying\n",
    "\n",
    "rides3 = rides2.copy()\n",
    "\n",
    "rides3 = rides3.loc[~rides3['station_id'].isin(station_id_exclusions),:]"
   ]
  },
  {
   "cell_type": "code",
   "execution_count": 29,
   "metadata": {},
   "outputs": [
    {
     "data": {
      "text/plain": [
       "139"
      ]
     },
     "execution_count": 29,
     "metadata": {},
     "output_type": "execute_result"
    }
   ],
   "source": [
    "rides3['station_id'].nunique()"
   ]
  },
  {
   "cell_type": "code",
   "execution_count": 30,
   "metadata": {},
   "outputs": [
    {
     "data": {
      "text/plain": [
       "True"
      ]
     },
     "execution_count": 30,
     "metadata": {},
     "output_type": "execute_result"
    }
   ],
   "source": [
    "set(rides3['station_id']) == set(stations2['GTFS'])"
   ]
  },
  {
   "cell_type": "markdown",
   "metadata": {},
   "source": [
    "Woohoo! We have our datasets down to only the stations we want, and everything has the correct data. (as far as we know!)"
   ]
  },
  {
   "cell_type": "code",
   "execution_count": 59,
   "metadata": {},
   "outputs": [],
   "source": [
    "# create stations3 which will contain our descriptive statistics\n",
    "\n",
    "stations3 = stations2.copy()"
   ]
  },
  {
   "cell_type": "code",
   "execution_count": 35,
   "metadata": {},
   "outputs": [],
   "source": [
    "# work with rides3 and stations3"
   ]
  },
  {
   "cell_type": "code",
   "execution_count": 55,
   "metadata": {
    "scrolled": true
   },
   "outputs": [
    {
     "data": {
      "text/plain": [
       "date\n",
       "2015-01-01   2015-01-01\n",
       "2015-01-02   2015-01-02\n",
       "2015-01-03   2015-01-03\n",
       "2015-01-04   2015-01-04\n",
       "2015-01-05   2015-01-05\n",
       "                ...    \n",
       "2019-12-27   2019-12-27\n",
       "2019-12-28   2019-12-28\n",
       "2019-12-29   2019-12-29\n",
       "2019-12-30   2019-12-30\n",
       "2019-12-31   2019-12-31\n",
       "Name: date, Length: 1826, dtype: datetime64[ns]"
      ]
     },
     "execution_count": 55,
     "metadata": {},
     "output_type": "execute_result"
    }
   ],
   "source": [
    "# split rides3 into training set and validation set and testing set\n",
    "# just need to identify which dates are training, which dates are val, and which dates are test\n",
    "\n",
    "clay = rides3.index\n",
    "clay = clay.droplevel(0).unique().to_series()\n",
    "clay = clay.sort_values().loc['2015':'2019']\n",
    "\n",
    "clay"
   ]
  },
  {
   "cell_type": "markdown",
   "metadata": {},
   "source": [
    "Actually I don't think I should split up into test-val-train just yet, because then we would lose the contiguous lag-1-autocorrelation information. Regarding variance, std and mean, technically we would be fine to calculate those on a train set; however, the la-1-autocorrelation is still an issue.\n",
    "\n",
    "I think it is acceptable to calculate these summary statistics on the whole dataset, because I'm not using these statistics as model inputs. I'm not even subconsciously using them to create a better model. I'm just using them to get a sense of which prediction problems (i.e. which stations) would be most interesting. When I actually do prediction, I'm going to start over and use 2-week or 5-week datasets to predict one day ahead.\n",
    "\n",
    "All right. Good. Let's move forward now."
   ]
  },
  {
   "cell_type": "code",
   "execution_count": 64,
   "metadata": {},
   "outputs": [],
   "source": [
    "for station_id in stations3['GTFS']:  # iterate through 139 stations\n",
    "\n",
    "    ws = rides3.loc[station_id,'rides'] # working series\n",
    "\n",
    "    lag1AC = np.corrcoef(ws['2015-01-01':'2017-12-30'],ws['2015-01-02':'2017-12-31'])[0,1] # note that time slices are inclusive\n",
    "    variance = np.var(ws['2015':'2017'])\n",
    "    std = np.std(ws['2015':'2017'])\n",
    "    mean = np.mean(ws['2015':'2017'])\n",
    "    scaled_std = std/mean\n",
    "    \n",
    "    stations3.at[stations3['GTFS']==station_id,'lag1AC'] = lag1AC\n",
    "    stations3.at[stations3['GTFS']==station_id,'variance'] = variance\n",
    "    stations3.at[stations3['GTFS']==station_id,'std'] = std\n",
    "    stations3.at[stations3['GTFS']==station_id,'mean'] = mean\n",
    "    stations3.at[stations3['GTFS']==station_id,'scaled_std'] = scaled_std"
   ]
  },
  {
   "cell_type": "code",
   "execution_count": 65,
   "metadata": {},
   "outputs": [
    {
     "data": {
      "text/html": [
       "<div>\n",
       "<style scoped>\n",
       "    .dataframe tbody tr th:only-of-type {\n",
       "        vertical-align: middle;\n",
       "    }\n",
       "\n",
       "    .dataframe tbody tr th {\n",
       "        vertical-align: top;\n",
       "    }\n",
       "\n",
       "    .dataframe thead th {\n",
       "        text-align: right;\n",
       "    }\n",
       "</style>\n",
       "<table border=\"1\" class=\"dataframe\">\n",
       "  <thead>\n",
       "    <tr style=\"text-align: right;\">\n",
       "      <th></th>\n",
       "      <th>STATION_ID</th>\n",
       "      <th>LONGNAME</th>\n",
       "      <th>LINES</th>\n",
       "      <th>ADDRESS</th>\n",
       "      <th>ADA</th>\n",
       "      <th>PKNRD</th>\n",
       "      <th>POINT_X</th>\n",
       "      <th>POINT_Y</th>\n",
       "      <th>GTFS</th>\n",
       "      <th>geometry</th>\n",
       "      <th>lag1AC</th>\n",
       "      <th>variance</th>\n",
       "      <th>std</th>\n",
       "      <th>mean</th>\n",
       "      <th>scaled_std</th>\n",
       "    </tr>\n",
       "  </thead>\n",
       "  <tbody>\n",
       "    <tr>\n",
       "      <th>0</th>\n",
       "      <td>1120</td>\n",
       "      <td>35-Bronzeville-IIT</td>\n",
       "      <td>Green Line</td>\n",
       "      <td>16 E. 35th Street</td>\n",
       "      <td>1</td>\n",
       "      <td>0</td>\n",
       "      <td>1.177051e+06</td>\n",
       "      <td>1.882048e+06</td>\n",
       "      <td>41120</td>\n",
       "      <td>POINT (1177050.915 1882047.587)</td>\n",
       "      <td>0.475323</td>\n",
       "      <td>2.858651e+05</td>\n",
       "      <td>534.663505</td>\n",
       "      <td>1632.043796</td>\n",
       "      <td>0.327604</td>\n",
       "    </tr>\n",
       "    <tr>\n",
       "      <th>1</th>\n",
       "      <td>760</td>\n",
       "      <td>Granville</td>\n",
       "      <td>Red Line</td>\n",
       "      <td>1119 W. Granville Avenue</td>\n",
       "      <td>1</td>\n",
       "      <td>0</td>\n",
       "      <td>1.167506e+06</td>\n",
       "      <td>1.941003e+06</td>\n",
       "      <td>40760</td>\n",
       "      <td>POINT (1167506.039 1941002.514)</td>\n",
       "      <td>0.480697</td>\n",
       "      <td>6.787916e+05</td>\n",
       "      <td>823.888113</td>\n",
       "      <td>3723.973540</td>\n",
       "      <td>0.221239</td>\n",
       "    </tr>\n",
       "    <tr>\n",
       "      <th>2</th>\n",
       "      <td>1210</td>\n",
       "      <td>Wellington</td>\n",
       "      <td>Brown, Purple (Express)</td>\n",
       "      <td>945 W. Wellington Avenue</td>\n",
       "      <td>1</td>\n",
       "      <td>0</td>\n",
       "      <td>1.169286e+06</td>\n",
       "      <td>1.920014e+06</td>\n",
       "      <td>41210</td>\n",
       "      <td>POINT (1169286.335 1920014.046)</td>\n",
       "      <td>0.412306</td>\n",
       "      <td>9.169915e+05</td>\n",
       "      <td>957.596740</td>\n",
       "      <td>2536.816606</td>\n",
       "      <td>0.377480</td>\n",
       "    </tr>\n",
       "    <tr>\n",
       "      <th>3</th>\n",
       "      <td>140</td>\n",
       "      <td>Dempster-Skokie</td>\n",
       "      <td>Yellow Line</td>\n",
       "      <td>5001 W. Dempster Street</td>\n",
       "      <td>1</td>\n",
       "      <td>1</td>\n",
       "      <td>1.142190e+06</td>\n",
       "      <td>1.957320e+06</td>\n",
       "      <td>40140</td>\n",
       "      <td>POINT (1142189.799 1957320.432)</td>\n",
       "      <td>0.753953</td>\n",
       "      <td>6.442909e+05</td>\n",
       "      <td>802.677358</td>\n",
       "      <td>1413.479927</td>\n",
       "      <td>0.567873</td>\n",
       "    </tr>\n",
       "    <tr>\n",
       "      <th>4</th>\n",
       "      <td>370</td>\n",
       "      <td>Washington/Dearborn</td>\n",
       "      <td>Blue Line</td>\n",
       "      <td>19 N. Dearborn</td>\n",
       "      <td>0</td>\n",
       "      <td>0</td>\n",
       "      <td>1.175927e+06</td>\n",
       "      <td>1.900801e+06</td>\n",
       "      <td>40370</td>\n",
       "      <td>POINT (1175927.284 1900801.153)</td>\n",
       "      <td>0.376683</td>\n",
       "      <td>1.159049e+07</td>\n",
       "      <td>3404.480717</td>\n",
       "      <td>10366.215328</td>\n",
       "      <td>0.328421</td>\n",
       "    </tr>\n",
       "    <tr>\n",
       "      <th>...</th>\n",
       "      <td>...</td>\n",
       "      <td>...</td>\n",
       "      <td>...</td>\n",
       "      <td>...</td>\n",
       "      <td>...</td>\n",
       "      <td>...</td>\n",
       "      <td>...</td>\n",
       "      <td>...</td>\n",
       "      <td>...</td>\n",
       "      <td>...</td>\n",
       "      <td>...</td>\n",
       "      <td>...</td>\n",
       "      <td>...</td>\n",
       "      <td>...</td>\n",
       "      <td>...</td>\n",
       "    </tr>\n",
       "    <tr>\n",
       "      <th>136</th>\n",
       "      <td>780</td>\n",
       "      <td>Central Park</td>\n",
       "      <td>Pink</td>\n",
       "      <td>1915 S. Central Park Avenue</td>\n",
       "      <td>1</td>\n",
       "      <td>0</td>\n",
       "      <td>1.152738e+06</td>\n",
       "      <td>1.889992e+06</td>\n",
       "      <td>40780</td>\n",
       "      <td>POINT (1152737.529 1889991.516)</td>\n",
       "      <td>0.438591</td>\n",
       "      <td>8.879276e+04</td>\n",
       "      <td>297.981136</td>\n",
       "      <td>1068.583029</td>\n",
       "      <td>0.278856</td>\n",
       "    </tr>\n",
       "    <tr>\n",
       "      <th>137</th>\n",
       "      <td>150</td>\n",
       "      <td>Pulaski-Douglas</td>\n",
       "      <td>Pink</td>\n",
       "      <td>2005 S. Pulaski Road</td>\n",
       "      <td>1</td>\n",
       "      <td>0</td>\n",
       "      <td>1.150164e+06</td>\n",
       "      <td>1.889924e+06</td>\n",
       "      <td>40150</td>\n",
       "      <td>POINT (1150164.332 1889923.883)</td>\n",
       "      <td>0.415879</td>\n",
       "      <td>7.213597e+04</td>\n",
       "      <td>268.581400</td>\n",
       "      <td>1023.253650</td>\n",
       "      <td>0.262478</td>\n",
       "    </tr>\n",
       "    <tr>\n",
       "      <th>138</th>\n",
       "      <td>600</td>\n",
       "      <td>Kostner</td>\n",
       "      <td>Pink</td>\n",
       "      <td>2019 S. Kostner Avenue</td>\n",
       "      <td>1</td>\n",
       "      <td>0</td>\n",
       "      <td>1.147730e+06</td>\n",
       "      <td>1.889868e+06</td>\n",
       "      <td>40600</td>\n",
       "      <td>POINT (1147729.864 1889868.063)</td>\n",
       "      <td>0.397458</td>\n",
       "      <td>1.842789e+04</td>\n",
       "      <td>135.749381</td>\n",
       "      <td>451.789234</td>\n",
       "      <td>0.300471</td>\n",
       "    </tr>\n",
       "    <tr>\n",
       "      <th>139</th>\n",
       "      <td>420</td>\n",
       "      <td>Cicero-Douglas</td>\n",
       "      <td>Pink</td>\n",
       "      <td>2133 S. 48th Court</td>\n",
       "      <td>1</td>\n",
       "      <td>0</td>\n",
       "      <td>1.144444e+06</td>\n",
       "      <td>1.889180e+06</td>\n",
       "      <td>40420</td>\n",
       "      <td>POINT (1144443.844 1889179.921)</td>\n",
       "      <td>0.388502</td>\n",
       "      <td>6.726837e+04</td>\n",
       "      <td>259.361473</td>\n",
       "      <td>1169.385036</td>\n",
       "      <td>0.221793</td>\n",
       "    </tr>\n",
       "    <tr>\n",
       "      <th>140</th>\n",
       "      <td>1000</td>\n",
       "      <td>Cermak-Chinatown</td>\n",
       "      <td>Red Line</td>\n",
       "      <td>138 W. Cermak Road</td>\n",
       "      <td>1</td>\n",
       "      <td>0</td>\n",
       "      <td>1.175601e+06</td>\n",
       "      <td>1.889881e+06</td>\n",
       "      <td>41000</td>\n",
       "      <td>POINT (1175600.578 1889880.866)</td>\n",
       "      <td>0.522337</td>\n",
       "      <td>5.683453e+05</td>\n",
       "      <td>753.886784</td>\n",
       "      <td>4203.169708</td>\n",
       "      <td>0.179361</td>\n",
       "    </tr>\n",
       "  </tbody>\n",
       "</table>\n",
       "<p>139 rows × 15 columns</p>\n",
       "</div>"
      ],
      "text/plain": [
       "     STATION_ID             LONGNAME                    LINES  \\\n",
       "0          1120   35-Bronzeville-IIT               Green Line   \n",
       "1           760            Granville                 Red Line   \n",
       "2          1210           Wellington  Brown, Purple (Express)   \n",
       "3           140      Dempster-Skokie              Yellow Line   \n",
       "4           370  Washington/Dearborn                Blue Line   \n",
       "..          ...                  ...                      ...   \n",
       "136         780         Central Park                     Pink   \n",
       "137         150      Pulaski-Douglas                     Pink   \n",
       "138         600              Kostner                     Pink   \n",
       "139         420       Cicero-Douglas                     Pink   \n",
       "140        1000     Cermak-Chinatown                 Red Line   \n",
       "\n",
       "                         ADDRESS  ADA  PKNRD       POINT_X       POINT_Y  \\\n",
       "0              16 E. 35th Street    1      0  1.177051e+06  1.882048e+06   \n",
       "1       1119 W. Granville Avenue    1      0  1.167506e+06  1.941003e+06   \n",
       "2       945 W. Wellington Avenue    1      0  1.169286e+06  1.920014e+06   \n",
       "3        5001 W. Dempster Street    1      1  1.142190e+06  1.957320e+06   \n",
       "4                 19 N. Dearborn    0      0  1.175927e+06  1.900801e+06   \n",
       "..                           ...  ...    ...           ...           ...   \n",
       "136  1915 S. Central Park Avenue    1      0  1.152738e+06  1.889992e+06   \n",
       "137         2005 S. Pulaski Road    1      0  1.150164e+06  1.889924e+06   \n",
       "138       2019 S. Kostner Avenue    1      0  1.147730e+06  1.889868e+06   \n",
       "139           2133 S. 48th Court    1      0  1.144444e+06  1.889180e+06   \n",
       "140           138 W. Cermak Road    1      0  1.175601e+06  1.889881e+06   \n",
       "\n",
       "      GTFS                         geometry    lag1AC      variance  \\\n",
       "0    41120  POINT (1177050.915 1882047.587)  0.475323  2.858651e+05   \n",
       "1    40760  POINT (1167506.039 1941002.514)  0.480697  6.787916e+05   \n",
       "2    41210  POINT (1169286.335 1920014.046)  0.412306  9.169915e+05   \n",
       "3    40140  POINT (1142189.799 1957320.432)  0.753953  6.442909e+05   \n",
       "4    40370  POINT (1175927.284 1900801.153)  0.376683  1.159049e+07   \n",
       "..     ...                              ...       ...           ...   \n",
       "136  40780  POINT (1152737.529 1889991.516)  0.438591  8.879276e+04   \n",
       "137  40150  POINT (1150164.332 1889923.883)  0.415879  7.213597e+04   \n",
       "138  40600  POINT (1147729.864 1889868.063)  0.397458  1.842789e+04   \n",
       "139  40420  POINT (1144443.844 1889179.921)  0.388502  6.726837e+04   \n",
       "140  41000  POINT (1175600.578 1889880.866)  0.522337  5.683453e+05   \n",
       "\n",
       "             std          mean  scaled_std  \n",
       "0     534.663505   1632.043796    0.327604  \n",
       "1     823.888113   3723.973540    0.221239  \n",
       "2     957.596740   2536.816606    0.377480  \n",
       "3     802.677358   1413.479927    0.567873  \n",
       "4    3404.480717  10366.215328    0.328421  \n",
       "..           ...           ...         ...  \n",
       "136   297.981136   1068.583029    0.278856  \n",
       "137   268.581400   1023.253650    0.262478  \n",
       "138   135.749381    451.789234    0.300471  \n",
       "139   259.361473   1169.385036    0.221793  \n",
       "140   753.886784   4203.169708    0.179361  \n",
       "\n",
       "[139 rows x 15 columns]"
      ]
     },
     "execution_count": 65,
     "metadata": {},
     "output_type": "execute_result"
    }
   ],
   "source": [
    "stations3"
   ]
  },
  {
   "cell_type": "code",
   "execution_count": 74,
   "metadata": {},
   "outputs": [
    {
     "ename": "ModuleNotFoundError",
     "evalue": "No module named 'contextily'",
     "output_type": "error",
     "traceback": [
      "\u001b[1;31m---------------------------------------------------------------------------\u001b[0m",
      "\u001b[1;31mModuleNotFoundError\u001b[0m                       Traceback (most recent call last)",
      "\u001b[1;32m~\\AppData\\Local\\Temp\\ipykernel_20744\\1877764685.py\u001b[0m in \u001b[0;36m<module>\u001b[1;34m\u001b[0m\n\u001b[1;32m----> 1\u001b[1;33m \u001b[1;32mimport\u001b[0m \u001b[0mcontextily\u001b[0m \u001b[1;32mas\u001b[0m \u001b[0mcx\u001b[0m\u001b[1;33m\u001b[0m\u001b[1;33m\u001b[0m\u001b[0m\n\u001b[0m",
      "\u001b[1;31mModuleNotFoundError\u001b[0m: No module named 'contextily'"
     ]
    }
   ],
   "source": [
    "import contextily as cx"
   ]
  },
  {
   "cell_type": "code",
   "execution_count": 77,
   "metadata": {},
   "outputs": [
    {
     "data": {
      "text/plain": [
       "{'proj': 'tmerc',\n",
       " 'lat_0': 36.66666666666666,\n",
       " 'lon_0': -88.33333333333333,\n",
       " 'k': 0.999975,\n",
       " 'x_0': 300000,\n",
       " 'y_0': 0,\n",
       " 'datum': 'NAD83',\n",
       " 'units': 'us-ft',\n",
       " 'no_defs': True}"
      ]
     },
     "execution_count": 77,
     "metadata": {},
     "output_type": "execute_result"
    }
   ],
   "source": [
    "stations3.crs"
   ]
  },
  {
   "cell_type": "code",
   "execution_count": 79,
   "metadata": {},
   "outputs": [
    {
     "ename": "NameError",
     "evalue": "name 'pyproj' is not defined",
     "output_type": "error",
     "traceback": [
      "\u001b[1;31m---------------------------------------------------------------------------\u001b[0m",
      "\u001b[1;31mNameError\u001b[0m                                 Traceback (most recent call last)",
      "\u001b[1;32m~\\AppData\\Local\\Temp\\ipykernel_20744\\1740630888.py\u001b[0m in \u001b[0;36m<module>\u001b[1;34m\u001b[0m\n\u001b[1;32m----> 1\u001b[1;33m \u001b[0mpyproj\u001b[0m\u001b[1;33m.\u001b[0m\u001b[0m__version__\u001b[0m\u001b[1;33m\u001b[0m\u001b[1;33m\u001b[0m\u001b[0m\n\u001b[0m",
      "\u001b[1;31mNameError\u001b[0m: name 'pyproj' is not defined"
     ]
    }
   ],
   "source": []
  },
  {
   "cell_type": "code",
   "execution_count": 80,
   "metadata": {},
   "outputs": [],
   "source": [
    "# come back to the above"
   ]
  },
  {
   "cell_type": "code",
   "execution_count": 85,
   "metadata": {},
   "outputs": [],
   "source": [
    "# convert dataframe to the same coordinate system as the basemap\n",
    "#df_wm = stations3.to_crs(epsg=3857)\n",
    "\n",
    "df_wm = stations3"
   ]
  },
  {
   "cell_type": "code",
   "execution_count": null,
   "metadata": {},
   "outputs": [],
   "source": [
    "ax = df_wm.plot(figsize=(10, 10), alpha=0.5, edgecolor='k')\n",
    "cx.add_basemap(ax)"
   ]
  },
  {
   "cell_type": "code",
   "execution_count": 88,
   "metadata": {},
   "outputs": [
    {
     "data": {
      "text/plain": [
       "'variance'"
      ]
     },
     "execution_count": 88,
     "metadata": {},
     "output_type": "execute_result"
    }
   ],
   "source": [
    "columns = df_wm.columns[-5:]\n",
    "\n",
    "columns[1]"
   ]
  },
  {
   "cell_type": "code",
   "execution_count": 94,
   "metadata": {},
   "outputs": [
    {
     "data": {
      "text/plain": [
       "0       534.663505\n",
       "1       823.888113\n",
       "2       957.596740\n",
       "3       802.677358\n",
       "4      3404.480717\n",
       "          ...     \n",
       "136     297.981136\n",
       "137     268.581400\n",
       "138     135.749381\n",
       "139     259.361473\n",
       "140     753.886784\n",
       "Name: std, Length: 139, dtype: float64"
      ]
     },
     "execution_count": 94,
     "metadata": {},
     "output_type": "execute_result"
    }
   ],
   "source": [
    "df_wm.iloc[:,-3]"
   ]
  },
  {
   "cell_type": "markdown",
   "metadata": {},
   "source": [
    "At least get the subplots to work.\n",
    "\n",
    "(no basemaps yet)"
   ]
  },
  {
   "cell_type": "code",
   "execution_count": 124,
   "metadata": {},
   "outputs": [],
   "source": [
    "from matplotlib.patches import Rectangle"
   ]
  },
  {
   "cell_type": "code",
   "execution_count": 131,
   "metadata": {},
   "outputs": [
    {
     "data": {
      "image/png": "[encoded data removed]",
      "text/plain": [
       "<Figure size 1152x864 with 30 Axes>"
      ]
     },
     "metadata": {
      "needs_background": "light"
     },
     "output_type": "display_data"
    }
   ],
   "source": [
    "# Plotting summary statistics\n",
    "\n",
    "rect1 = Rectangle((1160000,1890000), 20000, 25000, color='black', fc = 'none',lw = 2)\n",
    "rect2 = Rectangle((1170000,1895000), 10000, 10000, color='black',fc = 'none', lw = 2)\n",
    "\n",
    "fig, ax = plt.subplots(3, 5, figsize=(16,12), sharex='row', sharey='row')\n",
    "\n",
    "# axes are in a two-dimensional array, indexed by [row, col]\n",
    "for i in range(3):\n",
    "    for j in range(5):\n",
    "        #ax[i, j].text(0.5, 0.5, str((i, j)), fontsize=18, ha='center')\n",
    "        \n",
    "        # 'L train station rides:'\n",
    "        if i==0:\n",
    "            ax[i,j].title.set_text(columns[j])\n",
    "            ax[i,j].add_patch(Rectangle((1160000,1890000), 20000, 25000, color='black', fc = 'none',lw = 1, ls='--'))\n",
    "        \n",
    "        df_wm.plot(ax=ax[i,j], column=columns[j], legend=True)\n",
    "        \n",
    "        # zoomed-in versions\n",
    "        \n",
    "        if i==1:\n",
    "            ax[i,j].set_ylim(1890000,1915000)\n",
    "            ax[i,j].set_xlim(1160000,1180000)\n",
    "            ax[i,j].add_patch(Rectangle((1170000,1895000), 10000, 10000, color='black',fc = 'none', lw = 1, ls='--'))\n",
    "            \n",
    "        if i==2:\n",
    "            ax[i,j].set_ylim(1895000,1905000)\n",
    "            ax[i,j].set_xlim(1170000,1180000)\n",
    "            \n",
    "\n",
    "            \n",
    "        # to include: title, and the contents of the plot itself\n",
    "        \n",
    "        # smaller version: ylim(1.89,1.91), xlim(1.16,1.18)\n",
    "        \n",
    "        \n",
    "        #plt.xlabel('Time Steps')\n",
    "        #plt.ylabel('x')\n",
    "        "
   ]
  },
  {
   "cell_type": "markdown",
   "metadata": {},
   "source": [
    "Yaay!!"
   ]
  },
  {
   "cell_type": "markdown",
   "metadata": {},
   "source": [
    "Which ones are the best to study?\n",
    "\n",
    "Observations:\n",
    "Lag1AC - Skokie and second-northern are extremes, others mostly in the middle\n",
    "SD - greatest standard devs are found in the city center; the rest are quite low (skewed histogram)\n",
    "above makes sense due to higher means\n",
    "Mean - highest in the city center\n",
    "Scaled SD - Skokie is highest, as well as... UIC Halsted?\n",
    "above (scaled SD) the high ones or the low ones seem to be evenly spread geographically\n",
    "\n",
    "Central-Evanston - because high Lag1AC (i.e. similar amounts of people use it on weekends as weekdays) - this is a weird station\n",
    "\n",
    "I actually want to choose normal-ish stations:\n",
    "do clustering\n",
    "\n",
    "TO do: make histograms if easy.\n",
    "\n",
    "SO which stations should I study?"
   ]
  },
  {
   "cell_type": "code",
   "execution_count": 189,
   "metadata": {},
   "outputs": [
    {
     "data": {
      "text/html": [
       "<div>\n",
       "<style scoped>\n",
       "    .dataframe tbody tr th:only-of-type {\n",
       "        vertical-align: middle;\n",
       "    }\n",
       "\n",
       "    .dataframe tbody tr th {\n",
       "        vertical-align: top;\n",
       "    }\n",
       "\n",
       "    .dataframe thead th {\n",
       "        text-align: right;\n",
       "    }\n",
       "</style>\n",
       "<table border=\"1\" class=\"dataframe\">\n",
       "  <thead>\n",
       "    <tr style=\"text-align: right;\">\n",
       "      <th></th>\n",
       "      <th>level_0</th>\n",
       "      <th>index</th>\n",
       "      <th>STATION_ID</th>\n",
       "      <th>LONGNAME</th>\n",
       "      <th>LINES</th>\n",
       "      <th>ADDRESS</th>\n",
       "      <th>ADA</th>\n",
       "      <th>PKNRD</th>\n",
       "      <th>POINT_X</th>\n",
       "      <th>POINT_Y</th>\n",
       "      <th>GTFS</th>\n",
       "      <th>geometry</th>\n",
       "      <th>lag1AC</th>\n",
       "      <th>variance</th>\n",
       "      <th>std</th>\n",
       "      <th>mean</th>\n",
       "      <th>scaled_std</th>\n",
       "      <th>cluster_label</th>\n",
       "    </tr>\n",
       "  </thead>\n",
       "  <tbody>\n",
       "    <tr>\n",
       "      <th>0</th>\n",
       "      <td>0</td>\n",
       "      <td>0</td>\n",
       "      <td>1120</td>\n",
       "      <td>35-Bronzeville-IIT</td>\n",
       "      <td>Green Line</td>\n",
       "      <td>16 E. 35th Street</td>\n",
       "      <td>1</td>\n",
       "      <td>0</td>\n",
       "      <td>1.177051e+06</td>\n",
       "      <td>1.882048e+06</td>\n",
       "      <td>41120</td>\n",
       "      <td>POINT (1177050.915 1882047.587)</td>\n",
       "      <td>0.475323</td>\n",
       "      <td>2.858651e+05</td>\n",
       "      <td>534.663505</td>\n",
       "      <td>1632.043796</td>\n",
       "      <td>0.327604</td>\n",
       "      <td>1</td>\n",
       "    </tr>\n",
       "    <tr>\n",
       "      <th>1</th>\n",
       "      <td>1</td>\n",
       "      <td>1</td>\n",
       "      <td>760</td>\n",
       "      <td>Granville</td>\n",
       "      <td>Red Line</td>\n",
       "      <td>1119 W. Granville Avenue</td>\n",
       "      <td>1</td>\n",
       "      <td>0</td>\n",
       "      <td>1.167506e+06</td>\n",
       "      <td>1.941003e+06</td>\n",
       "      <td>40760</td>\n",
       "      <td>POINT (1167506.039 1941002.514)</td>\n",
       "      <td>0.480697</td>\n",
       "      <td>6.787916e+05</td>\n",
       "      <td>823.888113</td>\n",
       "      <td>3723.973540</td>\n",
       "      <td>0.221239</td>\n",
       "      <td>1</td>\n",
       "    </tr>\n",
       "    <tr>\n",
       "      <th>2</th>\n",
       "      <td>2</td>\n",
       "      <td>2</td>\n",
       "      <td>1210</td>\n",
       "      <td>Wellington</td>\n",
       "      <td>Brown, Purple (Express)</td>\n",
       "      <td>945 W. Wellington Avenue</td>\n",
       "      <td>1</td>\n",
       "      <td>0</td>\n",
       "      <td>1.169286e+06</td>\n",
       "      <td>1.920014e+06</td>\n",
       "      <td>41210</td>\n",
       "      <td>POINT (1169286.335 1920014.046)</td>\n",
       "      <td>0.412306</td>\n",
       "      <td>9.169915e+05</td>\n",
       "      <td>957.596740</td>\n",
       "      <td>2536.816606</td>\n",
       "      <td>0.377480</td>\n",
       "      <td>1</td>\n",
       "    </tr>\n",
       "    <tr>\n",
       "      <th>3</th>\n",
       "      <td>3</td>\n",
       "      <td>3</td>\n",
       "      <td>140</td>\n",
       "      <td>Dempster-Skokie</td>\n",
       "      <td>Yellow Line</td>\n",
       "      <td>5001 W. Dempster Street</td>\n",
       "      <td>1</td>\n",
       "      <td>1</td>\n",
       "      <td>1.142190e+06</td>\n",
       "      <td>1.957320e+06</td>\n",
       "      <td>40140</td>\n",
       "      <td>POINT (1142189.799 1957320.432)</td>\n",
       "      <td>0.753953</td>\n",
       "      <td>6.442909e+05</td>\n",
       "      <td>802.677358</td>\n",
       "      <td>1413.479927</td>\n",
       "      <td>0.567873</td>\n",
       "      <td>0</td>\n",
       "    </tr>\n",
       "    <tr>\n",
       "      <th>4</th>\n",
       "      <td>4</td>\n",
       "      <td>4</td>\n",
       "      <td>370</td>\n",
       "      <td>Washington/Dearborn</td>\n",
       "      <td>Blue Line</td>\n",
       "      <td>19 N. Dearborn</td>\n",
       "      <td>0</td>\n",
       "      <td>0</td>\n",
       "      <td>1.175927e+06</td>\n",
       "      <td>1.900801e+06</td>\n",
       "      <td>40370</td>\n",
       "      <td>POINT (1175927.284 1900801.153)</td>\n",
       "      <td>0.376683</td>\n",
       "      <td>1.159049e+07</td>\n",
       "      <td>3404.480717</td>\n",
       "      <td>10366.215328</td>\n",
       "      <td>0.328421</td>\n",
       "      <td>2</td>\n",
       "    </tr>\n",
       "    <tr>\n",
       "      <th>...</th>\n",
       "      <td>...</td>\n",
       "      <td>...</td>\n",
       "      <td>...</td>\n",
       "      <td>...</td>\n",
       "      <td>...</td>\n",
       "      <td>...</td>\n",
       "      <td>...</td>\n",
       "      <td>...</td>\n",
       "      <td>...</td>\n",
       "      <td>...</td>\n",
       "      <td>...</td>\n",
       "      <td>...</td>\n",
       "      <td>...</td>\n",
       "      <td>...</td>\n",
       "      <td>...</td>\n",
       "      <td>...</td>\n",
       "      <td>...</td>\n",
       "      <td>...</td>\n",
       "    </tr>\n",
       "    <tr>\n",
       "      <th>134</th>\n",
       "      <td>134</td>\n",
       "      <td>136</td>\n",
       "      <td>780</td>\n",
       "      <td>Central Park</td>\n",
       "      <td>Pink</td>\n",
       "      <td>1915 S. Central Park Avenue</td>\n",
       "      <td>1</td>\n",
       "      <td>0</td>\n",
       "      <td>1.152738e+06</td>\n",
       "      <td>1.889992e+06</td>\n",
       "      <td>40780</td>\n",
       "      <td>POINT (1152737.529 1889991.516)</td>\n",
       "      <td>0.438591</td>\n",
       "      <td>8.879276e+04</td>\n",
       "      <td>297.981136</td>\n",
       "      <td>1068.583029</td>\n",
       "      <td>0.278856</td>\n",
       "      <td>1</td>\n",
       "    </tr>\n",
       "    <tr>\n",
       "      <th>135</th>\n",
       "      <td>135</td>\n",
       "      <td>137</td>\n",
       "      <td>150</td>\n",
       "      <td>Pulaski-Douglas</td>\n",
       "      <td>Pink</td>\n",
       "      <td>2005 S. Pulaski Road</td>\n",
       "      <td>1</td>\n",
       "      <td>0</td>\n",
       "      <td>1.150164e+06</td>\n",
       "      <td>1.889924e+06</td>\n",
       "      <td>40150</td>\n",
       "      <td>POINT (1150164.332 1889923.883)</td>\n",
       "      <td>0.415879</td>\n",
       "      <td>7.213597e+04</td>\n",
       "      <td>268.581400</td>\n",
       "      <td>1023.253650</td>\n",
       "      <td>0.262478</td>\n",
       "      <td>1</td>\n",
       "    </tr>\n",
       "    <tr>\n",
       "      <th>136</th>\n",
       "      <td>136</td>\n",
       "      <td>138</td>\n",
       "      <td>600</td>\n",
       "      <td>Kostner</td>\n",
       "      <td>Pink</td>\n",
       "      <td>2019 S. Kostner Avenue</td>\n",
       "      <td>1</td>\n",
       "      <td>0</td>\n",
       "      <td>1.147730e+06</td>\n",
       "      <td>1.889868e+06</td>\n",
       "      <td>40600</td>\n",
       "      <td>POINT (1147729.864 1889868.063)</td>\n",
       "      <td>0.397458</td>\n",
       "      <td>1.842789e+04</td>\n",
       "      <td>135.749381</td>\n",
       "      <td>451.789234</td>\n",
       "      <td>0.300471</td>\n",
       "      <td>1</td>\n",
       "    </tr>\n",
       "    <tr>\n",
       "      <th>137</th>\n",
       "      <td>137</td>\n",
       "      <td>139</td>\n",
       "      <td>420</td>\n",
       "      <td>Cicero-Douglas</td>\n",
       "      <td>Pink</td>\n",
       "      <td>2133 S. 48th Court</td>\n",
       "      <td>1</td>\n",
       "      <td>0</td>\n",
       "      <td>1.144444e+06</td>\n",
       "      <td>1.889180e+06</td>\n",
       "      <td>40420</td>\n",
       "      <td>POINT (1144443.844 1889179.921)</td>\n",
       "      <td>0.388502</td>\n",
       "      <td>6.726837e+04</td>\n",
       "      <td>259.361473</td>\n",
       "      <td>1169.385036</td>\n",
       "      <td>0.221793</td>\n",
       "      <td>1</td>\n",
       "    </tr>\n",
       "    <tr>\n",
       "      <th>138</th>\n",
       "      <td>138</td>\n",
       "      <td>140</td>\n",
       "      <td>1000</td>\n",
       "      <td>Cermak-Chinatown</td>\n",
       "      <td>Red Line</td>\n",
       "      <td>138 W. Cermak Road</td>\n",
       "      <td>1</td>\n",
       "      <td>0</td>\n",
       "      <td>1.175601e+06</td>\n",
       "      <td>1.889881e+06</td>\n",
       "      <td>41000</td>\n",
       "      <td>POINT (1175600.578 1889880.866)</td>\n",
       "      <td>0.522337</td>\n",
       "      <td>5.683453e+05</td>\n",
       "      <td>753.886784</td>\n",
       "      <td>4203.169708</td>\n",
       "      <td>0.179361</td>\n",
       "      <td>1</td>\n",
       "    </tr>\n",
       "  </tbody>\n",
       "</table>\n",
       "<p>139 rows × 18 columns</p>\n",
       "</div>"
      ],
      "text/plain": [
       "     level_0  index  STATION_ID             LONGNAME                    LINES  \\\n",
       "0          0      0        1120   35-Bronzeville-IIT               Green Line   \n",
       "1          1      1         760            Granville                 Red Line   \n",
       "2          2      2        1210           Wellington  Brown, Purple (Express)   \n",
       "3          3      3         140      Dempster-Skokie              Yellow Line   \n",
       "4          4      4         370  Washington/Dearborn                Blue Line   \n",
       "..       ...    ...         ...                  ...                      ...   \n",
       "134      134    136         780         Central Park                     Pink   \n",
       "135      135    137         150      Pulaski-Douglas                     Pink   \n",
       "136      136    138         600              Kostner                     Pink   \n",
       "137      137    139         420       Cicero-Douglas                     Pink   \n",
       "138      138    140        1000     Cermak-Chinatown                 Red Line   \n",
       "\n",
       "                         ADDRESS  ADA  PKNRD       POINT_X       POINT_Y  \\\n",
       "0              16 E. 35th Street    1      0  1.177051e+06  1.882048e+06   \n",
       "1       1119 W. Granville Avenue    1      0  1.167506e+06  1.941003e+06   \n",
       "2       945 W. Wellington Avenue    1      0  1.169286e+06  1.920014e+06   \n",
       "3        5001 W. Dempster Street    1      1  1.142190e+06  1.957320e+06   \n",
       "4                 19 N. Dearborn    0      0  1.175927e+06  1.900801e+06   \n",
       "..                           ...  ...    ...           ...           ...   \n",
       "134  1915 S. Central Park Avenue    1      0  1.152738e+06  1.889992e+06   \n",
       "135         2005 S. Pulaski Road    1      0  1.150164e+06  1.889924e+06   \n",
       "136       2019 S. Kostner Avenue    1      0  1.147730e+06  1.889868e+06   \n",
       "137           2133 S. 48th Court    1      0  1.144444e+06  1.889180e+06   \n",
       "138           138 W. Cermak Road    1      0  1.175601e+06  1.889881e+06   \n",
       "\n",
       "      GTFS                         geometry    lag1AC      variance  \\\n",
       "0    41120  POINT (1177050.915 1882047.587)  0.475323  2.858651e+05   \n",
       "1    40760  POINT (1167506.039 1941002.514)  0.480697  6.787916e+05   \n",
       "2    41210  POINT (1169286.335 1920014.046)  0.412306  9.169915e+05   \n",
       "3    40140  POINT (1142189.799 1957320.432)  0.753953  6.442909e+05   \n",
       "4    40370  POINT (1175927.284 1900801.153)  0.376683  1.159049e+07   \n",
       "..     ...                              ...       ...           ...   \n",
       "134  40780  POINT (1152737.529 1889991.516)  0.438591  8.879276e+04   \n",
       "135  40150  POINT (1150164.332 1889923.883)  0.415879  7.213597e+04   \n",
       "136  40600  POINT (1147729.864 1889868.063)  0.397458  1.842789e+04   \n",
       "137  40420  POINT (1144443.844 1889179.921)  0.388502  6.726837e+04   \n",
       "138  41000  POINT (1175600.578 1889880.866)  0.522337  5.683453e+05   \n",
       "\n",
       "             std          mean  scaled_std  cluster_label  \n",
       "0     534.663505   1632.043796    0.327604              1  \n",
       "1     823.888113   3723.973540    0.221239              1  \n",
       "2     957.596740   2536.816606    0.377480              1  \n",
       "3     802.677358   1413.479927    0.567873              0  \n",
       "4    3404.480717  10366.215328    0.328421              2  \n",
       "..           ...           ...         ...            ...  \n",
       "134   297.981136   1068.583029    0.278856              1  \n",
       "135   268.581400   1023.253650    0.262478              1  \n",
       "136   135.749381    451.789234    0.300471              1  \n",
       "137   259.361473   1169.385036    0.221793              1  \n",
       "138   753.886784   4203.169708    0.179361              1  \n",
       "\n",
       "[139 rows x 18 columns]"
      ]
     },
     "execution_count": 189,
     "metadata": {},
     "output_type": "execute_result"
    }
   ],
   "source": [
    "# should have reset the index long ago\n",
    "\n",
    "#stations3.reset_index(inplace=True)\n",
    "\n",
    "stations3"
   ]
  },
  {
   "cell_type": "code",
   "execution_count": 190,
   "metadata": {},
   "outputs": [],
   "source": [
    "from sklearn.cluster import KMeans\n",
    "from sklearn.preprocessing import StandardScaler"
   ]
  },
  {
   "cell_type": "code",
   "execution_count": 191,
   "metadata": {},
   "outputs": [],
   "source": [
    "ss_data0 = stations3.loc[:,['lag1AC','mean','scaled_std']]\n",
    "ss_data1 = StandardScaler().fit_transform(ss_data0)"
   ]
  },
  {
   "cell_type": "code",
   "execution_count": 194,
   "metadata": {},
   "outputs": [],
   "source": [
    "kmeans = KMeans(n_clusters=3, max_iter=300, n_init=50, random_state=19)\n",
    "kmeans.fit(ss_data1)\n",
    "cluster_labels = kmeans.predict(ss_data1)"
   ]
  },
  {
   "cell_type": "code",
   "execution_count": 195,
   "metadata": {},
   "outputs": [],
   "source": [
    "stations3['cluster_label'] = cluster_labels"
   ]
  },
  {
   "cell_type": "code",
   "execution_count": 196,
   "metadata": {},
   "outputs": [],
   "source": [
    "centers = kmeans.cluster_centers_"
   ]
  },
  {
   "cell_type": "code",
   "execution_count": 197,
   "metadata": {},
   "outputs": [
    {
     "data": {
      "text/plain": [
       "array([[ 0.88337156,  0.12077856,  1.48615621],\n",
       "       [-0.25024257, -0.33769703, -0.2892368 ],\n",
       "       [ 0.33260193,  2.42664707, -0.47427654]])"
      ]
     },
     "execution_count": 197,
     "metadata": {},
     "output_type": "execute_result"
    }
   ],
   "source": [
    "centers"
   ]
  },
  {
   "cell_type": "code",
   "execution_count": 198,
   "metadata": {},
   "outputs": [],
   "source": [
    "# find closest point\n",
    "\n",
    "from scipy.spatial.distance import cdist\n",
    "\n",
    "def closest_point(point, points):\n",
    "    \"\"\" Find closest point from a list of points. \"\"\"\n",
    "    return points[cdist([point], points).argmin()]\n",
    "\n",
    "cluster0rep = closest_point(centers[0],ss_data1)\n",
    "cluster1rep = closest_point(centers[1],ss_data1)\n",
    "cluster2rep = closest_point(centers[2],ss_data1)"
   ]
  },
  {
   "cell_type": "code",
   "execution_count": 201,
   "metadata": {},
   "outputs": [
    {
     "data": {
      "text/html": [
       "<div>\n",
       "<style scoped>\n",
       "    .dataframe tbody tr th:only-of-type {\n",
       "        vertical-align: middle;\n",
       "    }\n",
       "\n",
       "    .dataframe tbody tr th {\n",
       "        vertical-align: top;\n",
       "    }\n",
       "\n",
       "    .dataframe thead th {\n",
       "        text-align: right;\n",
       "    }\n",
       "</style>\n",
       "<table border=\"1\" class=\"dataframe\">\n",
       "  <thead>\n",
       "    <tr style=\"text-align: right;\">\n",
       "      <th></th>\n",
       "      <th>level_0</th>\n",
       "      <th>index</th>\n",
       "      <th>STATION_ID</th>\n",
       "      <th>LONGNAME</th>\n",
       "      <th>LINES</th>\n",
       "      <th>ADDRESS</th>\n",
       "      <th>ADA</th>\n",
       "      <th>PKNRD</th>\n",
       "      <th>POINT_X</th>\n",
       "      <th>POINT_Y</th>\n",
       "      <th>...</th>\n",
       "      <th>geometry</th>\n",
       "      <th>lag1AC</th>\n",
       "      <th>variance</th>\n",
       "      <th>std</th>\n",
       "      <th>mean</th>\n",
       "      <th>scaled_std</th>\n",
       "      <th>cluster_label</th>\n",
       "      <th>temp0</th>\n",
       "      <th>temp1</th>\n",
       "      <th>temp2</th>\n",
       "    </tr>\n",
       "  </thead>\n",
       "  <tbody>\n",
       "    <tr>\n",
       "      <th>52</th>\n",
       "      <td>52</td>\n",
       "      <td>52</td>\n",
       "      <td>810</td>\n",
       "      <td>Illinois Medical District</td>\n",
       "      <td>Blue Line</td>\n",
       "      <td>430 S. Damen Avenue</td>\n",
       "      <td>1</td>\n",
       "      <td>0</td>\n",
       "      <td>1.163829e+06</td>\n",
       "      <td>1.897961e+06</td>\n",
       "      <td>...</td>\n",
       "      <td>POINT (1163828.915 1897961.332)</td>\n",
       "      <td>0.492292</td>\n",
       "      <td>1.410513e+06</td>\n",
       "      <td>1187.650347</td>\n",
       "      <td>2452.52646</td>\n",
       "      <td>0.484256</td>\n",
       "      <td>0</td>\n",
       "      <td>0.798497</td>\n",
       "      <td>-0.396135</td>\n",
       "      <td>1.982886</td>\n",
       "    </tr>\n",
       "  </tbody>\n",
       "</table>\n",
       "<p>1 rows × 21 columns</p>\n",
       "</div>"
      ],
      "text/plain": [
       "    level_0  index  STATION_ID                   LONGNAME      LINES  \\\n",
       "52       52     52         810  Illinois Medical District  Blue Line   \n",
       "\n",
       "                ADDRESS  ADA  PKNRD       POINT_X       POINT_Y  ...  \\\n",
       "52  430 S. Damen Avenue    1      0  1.163829e+06  1.897961e+06  ...   \n",
       "\n",
       "                           geometry    lag1AC      variance          std  \\\n",
       "52  POINT (1163828.915 1897961.332)  0.492292  1.410513e+06  1187.650347   \n",
       "\n",
       "          mean  scaled_std  cluster_label     temp0     temp1     temp2  \n",
       "52  2452.52646    0.484256              0  0.798497 -0.396135  1.982886  \n",
       "\n",
       "[1 rows x 21 columns]"
      ]
     },
     "execution_count": 201,
     "metadata": {},
     "output_type": "execute_result"
    }
   ],
   "source": [
    "tempdf = pd.DataFrame(ss_data1, columns=['temp0','temp1','temp2'])\n",
    "\n",
    "stations4 = pd.concat([stations3, tempdf],axis=1)\n",
    "\n",
    "stations4.loc[stations4['temp0']==cluster0rep[0],:]"
   ]
  },
  {
   "cell_type": "code",
   "execution_count": 202,
   "metadata": {},
   "outputs": [
    {
     "data": {
      "text/html": [
       "<div>\n",
       "<style scoped>\n",
       "    .dataframe tbody tr th:only-of-type {\n",
       "        vertical-align: middle;\n",
       "    }\n",
       "\n",
       "    .dataframe tbody tr th {\n",
       "        vertical-align: top;\n",
       "    }\n",
       "\n",
       "    .dataframe thead th {\n",
       "        text-align: right;\n",
       "    }\n",
       "</style>\n",
       "<table border=\"1\" class=\"dataframe\">\n",
       "  <thead>\n",
       "    <tr style=\"text-align: right;\">\n",
       "      <th></th>\n",
       "      <th>level_0</th>\n",
       "      <th>index</th>\n",
       "      <th>STATION_ID</th>\n",
       "      <th>LONGNAME</th>\n",
       "      <th>LINES</th>\n",
       "      <th>ADDRESS</th>\n",
       "      <th>ADA</th>\n",
       "      <th>PKNRD</th>\n",
       "      <th>POINT_X</th>\n",
       "      <th>POINT_Y</th>\n",
       "      <th>...</th>\n",
       "      <th>geometry</th>\n",
       "      <th>lag1AC</th>\n",
       "      <th>variance</th>\n",
       "      <th>std</th>\n",
       "      <th>mean</th>\n",
       "      <th>scaled_std</th>\n",
       "      <th>cluster_label</th>\n",
       "      <th>temp0</th>\n",
       "      <th>temp1</th>\n",
       "      <th>temp2</th>\n",
       "    </tr>\n",
       "  </thead>\n",
       "  <tbody>\n",
       "    <tr>\n",
       "      <th>12</th>\n",
       "      <td>12</td>\n",
       "      <td>12</td>\n",
       "      <td>490</td>\n",
       "      <td>Grand/Milwaukee</td>\n",
       "      <td>Blue Line (O'Hare)</td>\n",
       "      <td>502 N. Milwaukee Avenue</td>\n",
       "      <td>0</td>\n",
       "      <td>0</td>\n",
       "      <td>1.170965e+06</td>\n",
       "      <td>1.903685e+06</td>\n",
       "      <td>...</td>\n",
       "      <td>POINT (1170964.659 1903685.420)</td>\n",
       "      <td>0.411733</td>\n",
       "      <td>481072.531501</td>\n",
       "      <td>693.593924</td>\n",
       "      <td>2360.810219</td>\n",
       "      <td>0.293795</td>\n",
       "      <td>1</td>\n",
       "      <td>-0.398884</td>\n",
       "      <td>-0.424574</td>\n",
       "      <td>-0.2365</td>\n",
       "    </tr>\n",
       "  </tbody>\n",
       "</table>\n",
       "<p>1 rows × 21 columns</p>\n",
       "</div>"
      ],
      "text/plain": [
       "    level_0  index  STATION_ID         LONGNAME               LINES  \\\n",
       "12       12     12         490  Grand/Milwaukee  Blue Line (O'Hare)   \n",
       "\n",
       "                    ADDRESS  ADA  PKNRD       POINT_X       POINT_Y  ...  \\\n",
       "12  502 N. Milwaukee Avenue    0      0  1.170965e+06  1.903685e+06  ...   \n",
       "\n",
       "                           geometry    lag1AC       variance         std  \\\n",
       "12  POINT (1170964.659 1903685.420)  0.411733  481072.531501  693.593924   \n",
       "\n",
       "           mean  scaled_std  cluster_label     temp0     temp1   temp2  \n",
       "12  2360.810219    0.293795              1 -0.398884 -0.424574 -0.2365  \n",
       "\n",
       "[1 rows x 21 columns]"
      ]
     },
     "execution_count": 202,
     "metadata": {},
     "output_type": "execute_result"
    }
   ],
   "source": [
    "stations4.loc[stations4['temp0']==cluster1rep[0],:]"
   ]
  },
  {
   "cell_type": "code",
   "execution_count": 203,
   "metadata": {},
   "outputs": [
    {
     "data": {
      "text/html": [
       "<div>\n",
       "<style scoped>\n",
       "    .dataframe tbody tr th:only-of-type {\n",
       "        vertical-align: middle;\n",
       "    }\n",
       "\n",
       "    .dataframe tbody tr th {\n",
       "        vertical-align: top;\n",
       "    }\n",
       "\n",
       "    .dataframe thead th {\n",
       "        text-align: right;\n",
       "    }\n",
       "</style>\n",
       "<table border=\"1\" class=\"dataframe\">\n",
       "  <thead>\n",
       "    <tr style=\"text-align: right;\">\n",
       "      <th></th>\n",
       "      <th>level_0</th>\n",
       "      <th>index</th>\n",
       "      <th>STATION_ID</th>\n",
       "      <th>LONGNAME</th>\n",
       "      <th>LINES</th>\n",
       "      <th>ADDRESS</th>\n",
       "      <th>ADA</th>\n",
       "      <th>PKNRD</th>\n",
       "      <th>POINT_X</th>\n",
       "      <th>POINT_Y</th>\n",
       "      <th>...</th>\n",
       "      <th>geometry</th>\n",
       "      <th>lag1AC</th>\n",
       "      <th>variance</th>\n",
       "      <th>std</th>\n",
       "      <th>mean</th>\n",
       "      <th>scaled_std</th>\n",
       "      <th>cluster_label</th>\n",
       "      <th>temp0</th>\n",
       "      <th>temp1</th>\n",
       "      <th>temp2</th>\n",
       "    </tr>\n",
       "  </thead>\n",
       "  <tbody>\n",
       "    <tr>\n",
       "      <th>63</th>\n",
       "      <td>63</td>\n",
       "      <td>63</td>\n",
       "      <td>1320</td>\n",
       "      <td>Belmont-North Main</td>\n",
       "      <td>Red, Brown, Purple (Express)</td>\n",
       "      <td>945 W. Belmont Avenue</td>\n",
       "      <td>1</td>\n",
       "      <td>0</td>\n",
       "      <td>1.169245e+06</td>\n",
       "      <td>1.921369e+06</td>\n",
       "      <td>...</td>\n",
       "      <td>POINT (1169244.560 1921368.701)</td>\n",
       "      <td>0.455348</td>\n",
       "      <td>6.961049e+06</td>\n",
       "      <td>2638.380012</td>\n",
       "      <td>11549.269161</td>\n",
       "      <td>0.228446</td>\n",
       "      <td>2</td>\n",
       "      <td>0.249387</td>\n",
       "      <td>2.424519</td>\n",
       "      <td>-0.997995</td>\n",
       "    </tr>\n",
       "  </tbody>\n",
       "</table>\n",
       "<p>1 rows × 21 columns</p>\n",
       "</div>"
      ],
      "text/plain": [
       "    level_0  index  STATION_ID            LONGNAME  \\\n",
       "63       63     63        1320  Belmont-North Main   \n",
       "\n",
       "                           LINES                ADDRESS  ADA  PKNRD  \\\n",
       "63  Red, Brown, Purple (Express)  945 W. Belmont Avenue    1      0   \n",
       "\n",
       "         POINT_X       POINT_Y  ...                         geometry  \\\n",
       "63  1.169245e+06  1.921369e+06  ...  POINT (1169244.560 1921368.701)   \n",
       "\n",
       "      lag1AC      variance          std          mean  scaled_std  \\\n",
       "63  0.455348  6.961049e+06  2638.380012  11549.269161    0.228446   \n",
       "\n",
       "    cluster_label     temp0     temp1     temp2  \n",
       "63              2  0.249387  2.424519 -0.997995  \n",
       "\n",
       "[1 rows x 21 columns]"
      ]
     },
     "execution_count": 203,
     "metadata": {},
     "output_type": "execute_result"
    }
   ],
   "source": [
    "stations4.loc[stations4['temp0']==cluster2rep[0],:]"
   ]
  },
  {
   "cell_type": "markdown",
   "metadata": {},
   "source": [
    "Above we have our three representatives! Woohoo!"
   ]
  },
  {
   "cell_type": "code",
   "execution_count": 204,
   "metadata": {},
   "outputs": [
    {
     "ename": "AttributeError",
     "evalue": "'GeoDataFrame' object has no attribute 'rows'",
     "output_type": "error",
     "traceback": [
      "\u001b[1;31m---------------------------------------------------------------------------\u001b[0m",
      "\u001b[1;31mAttributeError\u001b[0m                            Traceback (most recent call last)",
      "\u001b[1;32m~\\AppData\\Local\\Temp\\ipykernel_20744\\1200183021.py\u001b[0m in \u001b[0;36m<module>\u001b[1;34m\u001b[0m\n\u001b[1;32m----> 1\u001b[1;33m \u001b[0mstations4\u001b[0m\u001b[1;33m.\u001b[0m\u001b[0mrows\u001b[0m\u001b[1;33m\u001b[0m\u001b[1;33m\u001b[0m\u001b[0m\n\u001b[0m",
      "\u001b[1;32m~\\Anaconda3\\lib\\site-packages\\pandas\\core\\generic.py\u001b[0m in \u001b[0;36m__getattr__\u001b[1;34m(self, name)\u001b[0m\n\u001b[0;32m   5485\u001b[0m         ):\n\u001b[0;32m   5486\u001b[0m             \u001b[1;32mreturn\u001b[0m \u001b[0mself\u001b[0m\u001b[1;33m[\u001b[0m\u001b[0mname\u001b[0m\u001b[1;33m]\u001b[0m\u001b[1;33m\u001b[0m\u001b[1;33m\u001b[0m\u001b[0m\n\u001b[1;32m-> 5487\u001b[1;33m         \u001b[1;32mreturn\u001b[0m \u001b[0mobject\u001b[0m\u001b[1;33m.\u001b[0m\u001b[0m__getattribute__\u001b[0m\u001b[1;33m(\u001b[0m\u001b[0mself\u001b[0m\u001b[1;33m,\u001b[0m \u001b[0mname\u001b[0m\u001b[1;33m)\u001b[0m\u001b[1;33m\u001b[0m\u001b[1;33m\u001b[0m\u001b[0m\n\u001b[0m\u001b[0;32m   5488\u001b[0m \u001b[1;33m\u001b[0m\u001b[0m\n\u001b[0;32m   5489\u001b[0m     \u001b[1;32mdef\u001b[0m \u001b[0m__setattr__\u001b[0m\u001b[1;33m(\u001b[0m\u001b[0mself\u001b[0m\u001b[1;33m,\u001b[0m \u001b[0mname\u001b[0m\u001b[1;33m:\u001b[0m \u001b[0mstr\u001b[0m\u001b[1;33m,\u001b[0m \u001b[0mvalue\u001b[0m\u001b[1;33m)\u001b[0m \u001b[1;33m->\u001b[0m \u001b[1;32mNone\u001b[0m\u001b[1;33m:\u001b[0m\u001b[1;33m\u001b[0m\u001b[1;33m\u001b[0m\u001b[0m\n",
      "\u001b[1;31mAttributeError\u001b[0m: 'GeoDataFrame' object has no attribute 'rows'"
     ]
    }
   ],
   "source": [
    "stations"
   ]
  },
  {
   "cell_type": "code",
   "execution_count": 208,
   "metadata": {},
   "outputs": [],
   "source": [
    "for i in range(len(stations4)):\n",
    "    if stations4.at[i,'STATION_ID'] in [810,490,1320]:\n",
    "        stations4.at[i,'is_cluster_rep'] = 1\n",
    "    else:\n",
    "        stations4.at[i,'is_cluster_rep'] = 0\n",
    "        "
   ]
  },
  {
   "cell_type": "code",
   "execution_count": 212,
   "metadata": {},
   "outputs": [],
   "source": [
    "special = stations4.loc[stations4['is_cluster_rep']==1,:]"
   ]
  },
  {
   "cell_type": "markdown",
   "metadata": {},
   "source": []
  },
  {
   "cell_type": "code",
   "execution_count": 223,
   "metadata": {},
   "outputs": [
    {
     "data": {
      "image/png": "[encoded data removed]",
      "text/plain": [
       "<Figure size 1152x864 with 6 Axes>"
      ]
     },
     "metadata": {
      "needs_background": "light"
     },
     "output_type": "display_data"
    }
   ],
   "source": [
    "# Plotting clusters\n",
    "\n",
    "rect1 = Rectangle((1160000,1890000), 20000, 25000, color='black', fc = 'none',lw = 2)\n",
    "rect2 = Rectangle((1170000,1895000), 10000, 10000, color='black',fc = 'none', lw = 2)\n",
    "\n",
    "fig, ax = plt.subplots(3, 2, figsize=(16,12), sharex='row', sharey='row')\n",
    "\n",
    "# axes are in a two-dimensional array, indexed by [row, col]\n",
    "for i in range(3):\n",
    "    for j in range(2):\n",
    "        #ax[i, j].text(0.5, 0.5, str((i, j)), fontsize=18, ha='center')\n",
    "        \n",
    "        # 'L train station rides:'\n",
    "        if i==0 and j==0:\n",
    "            ax[i,j].title.set_text('cluster_label')\n",
    "            ax[i,j].add_patch(Rectangle((1160000,1890000), 20000, 25000, color='black', fc = 'none',lw = 1, ls='--'))\n",
    "        \n",
    "        if j==0:\n",
    "            stations4.plot(ax=ax[i,j], column='cluster_label')\n",
    "            special.plot(ax=ax[i,j], marker='+', color='red', markersize=50)\n",
    "        \n",
    "        # zoomed-in versions\n",
    "        \n",
    "        if i==1 and j==0:\n",
    "            ax[i,j].set_ylim(1890000,1915000)\n",
    "            ax[i,j].set_xlim(1160000,1180000)\n",
    "            ax[i,j].add_patch(Rectangle((1170000,1895000), 10000, 10000, color='black',fc = 'none', lw = 1, ls='--'))\n",
    "            \n",
    "        if i==2 and j==0:\n",
    "            ax[i,j].set_ylim(1895000,1905000)\n",
    "            ax[i,j].set_xlim(1170000,1180000)\n",
    "            \n",
    "            \n",
    "\n",
    "            \n",
    "        # to include: title, and the contents of the plot itself\n",
    "        \n",
    "        # smaller version: ylim(1.89,1.91), xlim(1.16,1.18)\n",
    "        \n",
    "        \n",
    "        #plt.xlabel('Time Steps')\n",
    "        #plt.ylabel('x')\n",
    "        "
   ]
  },
  {
   "cell_type": "code",
   "execution_count": 230,
   "metadata": {},
   "outputs": [
    {
     "data": {
      "text/plain": [
       "Text(0.5, 0, 'scaled_std')"
      ]
     },
     "execution_count": 230,
     "metadata": {},
     "output_type": "execute_result"
    },
    {
     "data": {
      "image/png": "[encoded data removed]",
      "text/plain": [
       "<Figure size 432x288 with 1 Axes>"
      ]
     },
     "metadata": {
      "needs_background": "light"
     },
     "output_type": "display_data"
    }
   ],
   "source": [
    "# plot clusters in 3d\n",
    "\n",
    "from mpl_toolkits import mplot3d\n",
    "\n",
    "fig = plt.figure()\n",
    "ax = plt.axes(projection='3d')\n",
    "\n",
    "#ax.scatter3D(xdata, ydata, zdata, c=zdata, cmap='Greens');\n",
    "\n",
    "ax.scatter3D(stations4['lag1AC'], stations4['mean'], stations4['scaled_std'], c=stations4['cluster_label'])\n",
    "ax.scatter3D(special['lag1AC'], special['mean'], special['scaled_std'], marker='+', color='red', s=50, depthshade=False)\n",
    "\n",
    "\n",
    "ax.set_xlabel('lag1AC')\n",
    "ax.set_ylabel('mean')\n",
    "ax.set_zlabel('scaled_std')"
   ]
  },
  {
   "cell_type": "code",
   "execution_count": 150,
   "metadata": {},
   "outputs": [
    {
     "data": {
      "image/png": "[encoded data removed]",
      "text/plain": [
       "<Figure size 864x432 with 1 Axes>"
      ]
     },
     "metadata": {
      "needs_background": "light"
     },
     "output_type": "display_data"
    }
   ],
   "source": [
    "smaller = rides3.loc[41250,'rides']\n",
    "\n",
    "plt.figure(figsize=(12,6))\n",
    "plt.title('Dempster-Skokie station daily rides 2015')\n",
    "plt.xlabel('Date')\n",
    "plt.ylabel('Rides')\n",
    "plt.plot(smaller['2019'])\n",
    "plt.show()"
   ]
  },
  {
   "cell_type": "markdown",
   "metadata": {},
   "source": [
    "Woohoo! We did computed summary statistics, did clustering, and made maps and plots. We identified 3 stations to further study."
   ]
  },
  {
   "cell_type": "code",
   "execution_count": 231,
   "metadata": {},
   "outputs": [],
   "source": [
    "station_id_study = [40810, 40490, 41320]"
   ]
  },
  {
   "cell_type": "code",
   "execution_count": 236,
   "metadata": {},
   "outputs": [],
   "source": [
    "r = rides3.loc[station,'rides']\n",
    "    \n",
    "dataset = np.empty((1826,36))"
   ]
  },
  {
   "cell_type": "code",
   "execution_count": 238,
   "metadata": {},
   "outputs": [
    {
     "data": {
      "text/plain": [
       "array([[1.04817260e-311, 1.04736624e-311, 0.00000000e+000, ...,\n",
       "        0.00000000e+000, 0.00000000e+000, 0.00000000e+000],\n",
       "       [0.00000000e+000, 0.00000000e+000, 0.00000000e+000, ...,\n",
       "        0.00000000e+000, 0.00000000e+000, 0.00000000e+000],\n",
       "       [0.00000000e+000, 0.00000000e+000, 0.00000000e+000, ...,\n",
       "        0.00000000e+000, 0.00000000e+000, 0.00000000e+000],\n",
       "       ...,\n",
       "       [0.00000000e+000, 0.00000000e+000, 0.00000000e+000, ...,\n",
       "        0.00000000e+000, 0.00000000e+000, 0.00000000e+000],\n",
       "       [0.00000000e+000, 0.00000000e+000, 0.00000000e+000, ...,\n",
       "        0.00000000e+000, 0.00000000e+000, 0.00000000e+000],\n",
       "       [0.00000000e+000, 0.00000000e+000, 0.00000000e+000, ...,\n",
       "        0.00000000e+000, 0.00000000e+000, 0.00000000e+000]])"
      ]
     },
     "execution_count": 238,
     "metadata": {},
     "output_type": "execute_result"
    }
   ],
   "source": [
    "dataset"
   ]
  },
  {
   "cell_type": "code",
   "execution_count": 240,
   "metadata": {},
   "outputs": [
    {
     "name": "stdout",
     "output_type": "stream",
     "text": [
      "2014-11-27 00:00:00\n",
      "2014-11-28 00:00:00\n",
      "2014-11-29 00:00:00\n",
      "2014-11-30 00:00:00\n",
      "2014-12-01 00:00:00\n"
     ]
    }
   ],
   "source": [
    "for today in pd.date_range('2015-01-01','2015-01-05'):\n",
    "    date35daysago = today - pd.offsets.Day(35)\n",
    "    print(date35daysago)"
   ]
  },
  {
   "cell_type": "code",
   "execution_count": 242,
   "metadata": {},
   "outputs": [],
   "source": [
    "dataset[0] = r['2014-11-27':'2015-01-01']"
   ]
  },
  {
   "cell_type": "code",
   "execution_count": 243,
   "metadata": {},
   "outputs": [
    {
     "data": {
      "text/plain": [
       "array([ 3702.,  7006.,  7618.,  5950., 11452., 12375., 12728., 13006.,\n",
       "       13609., 11184.,  7919., 12117., 12483., 12763., 12825., 13582.,\n",
       "       11815.,  8490., 11919., 12281., 12096., 12291., 12414.,  9599.,\n",
       "        7338., 10018.,  9225.,  5364.,  1977.,  5961.,  6159.,  5753.,\n",
       "        9290.,  9683., 13906.,  7482.])"
      ]
     },
     "execution_count": 243,
     "metadata": {},
     "output_type": "execute_result"
    }
   ],
   "source": [
    "dataset[0]"
   ]
  },
  {
   "cell_type": "code",
   "execution_count": 244,
   "metadata": {},
   "outputs": [],
   "source": [
    "row = 0\n",
    "\n",
    "for today in pd.date_range('2015-01-01','2019-12-31'):\n",
    "    date35daysago = today - pd.offsets.Day(35)\n",
    "    dataset[row] = rides[date35daysago:today]\n",
    "    row += 1\n",
    "    "
   ]
  },
  {
   "cell_type": "code",
   "execution_count": 245,
   "metadata": {},
   "outputs": [
    {
     "data": {
      "text/plain": [
       "array([[ 3702.,  7006.,  7618., ...,  9683., 13906.,  7482.],\n",
       "       [ 7006.,  7618.,  5950., ..., 13906.,  7482.,  9710.],\n",
       "       [ 7618.,  5950., 11452., ...,  7482.,  9710.,  7536.],\n",
       "       ...,\n",
       "       [ 6487., 11024., 10597., ...,  6416.,  5446.,  4936.],\n",
       "       [11024., 10597.,  7883., ...,  5446.,  4936.,  7684.],\n",
       "       [10597.,  7883.,  2675., ...,  4936.,  7684.,  7491.]])"
      ]
     },
     "execution_count": 245,
     "metadata": {},
     "output_type": "execute_result"
    }
   ],
   "source": [
    "dataset"
   ]
  },
  {
   "cell_type": "code",
   "execution_count": 249,
   "metadata": {},
   "outputs": [],
   "source": [
    "datasets = []\n",
    "\n",
    "# create five-week datasets\n",
    "\n",
    "for station in station_id_study:\n",
    "    \n",
    "    rides = rides3.loc[station,'rides']\n",
    "    \n",
    "    dataset = np.empty((1826,36))\n",
    "\n",
    "    row = 0\n",
    "    \n",
    "    for today in pd.date_range('2015-01-01','2019-12-31'):\n",
    "        date35daysago = today - pd.offsets.Day(35)\n",
    "        dataset[row] = rides[date35daysago:today]\n",
    "        row += 1\n",
    "    \n",
    "    datasets.append(dataset)\n",
    "    \n",
    "    \n",
    "# create two-week datasets \n",
    "# we'll do this by selecting certain columns from the five-week datasets"
   ]
  },
  {
   "cell_type": "code",
   "execution_count": 252,
   "metadata": {},
   "outputs": [
    {
     "data": {
      "text/plain": [
       "array([[ 3702.,  7006.,  7618., ...,  9683., 13906.,  7482.],\n",
       "       [ 7006.,  7618.,  5950., ..., 13906.,  7482.,  9710.],\n",
       "       [ 7618.,  5950., 11452., ...,  7482.,  9710.,  7536.],\n",
       "       ...,\n",
       "       [ 6487., 11024., 10597., ...,  6416.,  5446.,  4936.],\n",
       "       [11024., 10597.,  7883., ...,  5446.,  4936.,  7684.],\n",
       "       [10597.,  7883.,  2675., ...,  4936.,  7684.,  7491.]])"
      ]
     },
     "execution_count": 252,
     "metadata": {},
     "output_type": "execute_result"
    }
   ],
   "source": [
    "datasets[2]"
   ]
  },
  {
   "cell_type": "markdown",
   "metadata": {},
   "source": [
    "### Test val train"
   ]
  },
  {
   "cell_type": "code",
   "execution_count": 424,
   "metadata": {},
   "outputs": [],
   "source": [
    "from sklearn.metrics import mean_squared_error\n",
    "\n",
    "def readout(model, X_train, y_train, X_val_or_test, y_val_or_test):\n",
    "\n",
    "    training_preds = model.predict(X_train)\n",
    "    print('Training set RMSE is', mean_squared_error(y_train, training_preds, squared=False))\n",
    "\n",
    "    val_preds = model.predict(X_val_or_test)\n",
    "    print('Val set RMSE is', mean_squared_error(y_val_or_test, val_preds, squared=False))\n",
    "    \n",
    "    if mean_squared_error(y_val_or_test, val_preds, squared=False) < 1:\n",
    "        print('Woohoo! This is a pretty good model. Val set RMSE is < 1, at',\n",
    "              mean_squared_error(y_val_or_test, test_preds, squared=False))"
   ]
  },
  {
   "cell_type": "code",
   "execution_count": 265,
   "metadata": {},
   "outputs": [],
   "source": [
    "from sklearn.model_selection import train_test_split"
   ]
  },
  {
   "cell_type": "markdown",
   "metadata": {},
   "source": [
    "Note: an advantage of AR is that we don't need training dataset - we only use the previous 35 days that are right in front of use to train a model for that particular instance.\n",
    "\n",
    "Note: I am doing ARIMA wrong\n"
   ]
  },
  {
   "cell_type": "markdown",
   "metadata": {},
   "source": [
    "## Illinois Medical District 35\n",
    "\n",
    "Access using \"datasets[0]\""
   ]
  },
  {
   "cell_type": "code",
   "execution_count": 372,
   "metadata": {},
   "outputs": [],
   "source": [
    "# split into train/val/test\n",
    "d = datasets[0]\n",
    "\n",
    "X_train, X_purg, y_train, y_purg = train_test_split(d[:,0:35],\n",
    "                                                    d[:,-1],\n",
    "                                                    test_size=0.4,\n",
    "                                                    random_state=19)\n",
    "\n",
    "X_val, X_test, y_val, y_test = train_test_split(X_purg,\n",
    "                                                    y_purg,\n",
    "                                                    test_size=0.5,\n",
    "                                                    random_state=19)"
   ]
  },
  {
   "cell_type": "markdown",
   "metadata": {},
   "source": [
    "#### ARIMA"
   ]
  },
  {
   "cell_type": "code",
   "execution_count": 373,
   "metadata": {},
   "outputs": [],
   "source": [
    "import statsmodels.api as sm"
   ]
  },
  {
   "cell_type": "code",
   "execution_count": 374,
   "metadata": {},
   "outputs": [
    {
     "name": "stdout",
     "output_type": "stream",
     "text": [
      "Val set RMSE is 1059.3687576682216\n"
     ]
    }
   ],
   "source": [
    "mean_pred = [np.mean(X_val[i]) for i in range(365)]\n",
    "\n",
    "print('Val set RMSE is', mean_squared_error(y_val, mean_pred, squared=False))"
   ]
  },
  {
   "cell_type": "code",
   "execution_count": 375,
   "metadata": {},
   "outputs": [
    {
     "name": "stdout",
     "output_type": "stream",
     "text": [
      "Val set RMSE is 1059.3687576682216\n"
     ]
    }
   ],
   "source": [
    "preds = []\n",
    "\n",
    "for row in range(len(y_val)):\n",
    "    mean = np.mean(X_val[row])\n",
    "    mod02 = sm.tsa.statespace.SARIMAX(X_val[row]-mean, order=(1,0,0), seasonal_order=(1,0,0,7))\n",
    "    fit02 = mod02.fit(disp=False)\n",
    "    pred = fit02.predict(0,0) + mean\n",
    "    preds.append(pred)\n",
    "\n",
    "print('Val set RMSE is', mean_squared_error(y_val, preds, squared=False))"
   ]
  },
  {
   "cell_type": "code",
   "execution_count": null,
   "metadata": {},
   "outputs": [],
   "source": [
    "preds = []\n",
    "\n",
    "for row in range(len(y_val)):\n",
    "    mod02 = sm.tsa.arima.ARIMA(X_val[row], order=(7,1,0), seasonal_order=(0,0,0,0))\n",
    "    fit02 = mod02.fit()\n",
    "    pred = fit02.predict(0,0)\n",
    "    preds.append(pred)\n",
    "\n",
    "print('Val set RMSE is', mean_squared_error(y_val, preds, squared=False))"
   ]
  },
  {
   "cell_type": "markdown",
   "metadata": {},
   "source": [
    "#### Linear Regression"
   ]
  },
  {
   "cell_type": "code",
   "execution_count": 376,
   "metadata": {
    "scrolled": true
   },
   "outputs": [
    {
     "name": "stdout",
     "output_type": "stream",
     "text": [
      "Training set RMSE is 389.1962205408173\n",
      "Val set RMSE is 528.8418968185434\n"
     ]
    }
   ],
   "source": [
    "from sklearn.linear_model import LinearRegression\n",
    "import warnings \n",
    "warnings.filterwarnings(\"ignore\")\n",
    "\n",
    "reg01 = LinearRegression()\n",
    "reg01.fit(X_train, y_train)\n",
    "\n",
    "readout(reg01,X_train,y_train,X_val,y_val)"
   ]
  },
  {
   "cell_type": "markdown",
   "metadata": {},
   "source": [
    "#### Random Forest"
   ]
  },
  {
   "cell_type": "code",
   "execution_count": 377,
   "metadata": {},
   "outputs": [
    {
     "name": "stdout",
     "output_type": "stream",
     "text": [
      "Training set RMSE is 130.94124214888234\n",
      "Val set RMSE is 483.89268481985744\n"
     ]
    }
   ],
   "source": [
    "from sklearn.ensemble import RandomForestRegressor\n",
    "import warnings \n",
    "warnings.filterwarnings(\"ignore\")\n",
    "\n",
    "forest01 = RandomForestRegressor(n_estimators=500,random_state=19)\n",
    "forest01.fit(X_train, y_train)\n",
    "\n",
    "readout(forest01,X_train,y_train,X_val,y_val)"
   ]
  },
  {
   "cell_type": "markdown",
   "metadata": {},
   "source": [
    "#### Extra Trees"
   ]
  },
  {
   "cell_type": "code",
   "execution_count": 378,
   "metadata": {},
   "outputs": [
    {
     "name": "stdout",
     "output_type": "stream",
     "text": [
      "Training set RMSE is 0.0\n",
      "Val set RMSE is 485.8201177253736\n"
     ]
    }
   ],
   "source": [
    "from sklearn.ensemble import ExtraTreesRegressor\n",
    "\n",
    "forest07 = ExtraTreesRegressor(n_estimators=500,random_state=19)\n",
    "forest07.fit(X_train, y_train)\n",
    "\n",
    "readout(forest07,X_train,y_train,X_val,y_val)"
   ]
  },
  {
   "cell_type": "markdown",
   "metadata": {},
   "source": [
    "#### Support Vector Regression"
   ]
  },
  {
   "cell_type": "code",
   "execution_count": 379,
   "metadata": {},
   "outputs": [
    {
     "name": "stdout",
     "output_type": "stream",
     "text": [
      "Training set RMSE is 306.7513559114055\n",
      "Val set RMSE is 508.752221562718\n"
     ]
    }
   ],
   "source": [
    "from sklearn.svm import SVR\n",
    "\n",
    "std = np.std(X_train)\n",
    "svr01 = SVR(C=std, epsilon=0.2*std)\n",
    "svr01.fit(X_train, y_train)\n",
    "\n",
    "readout(svr01,X_train,y_train,X_val,y_val)"
   ]
  },
  {
   "cell_type": "code",
   "execution_count": null,
   "metadata": {},
   "outputs": [],
   "source": []
  },
  {
   "cell_type": "markdown",
   "metadata": {},
   "source": [
    "## Illinois Medical District 14\n",
    "\n",
    "Access using \"datasets[0]\""
   ]
  },
  {
   "cell_type": "code",
   "execution_count": 426,
   "metadata": {},
   "outputs": [],
   "source": [
    "# split into train/val/test\n",
    "d = datasets[0]\n",
    "\n",
    "X_train, X_purg, y_train, y_purg = train_test_split(d[:,21:35],\n",
    "                                                    d[:,-1],\n",
    "                                                    test_size=0.4,\n",
    "                                                    random_state=19)\n",
    "\n",
    "X_val, X_test, y_val, y_test = train_test_split(X_purg,\n",
    "                                                    y_purg,\n",
    "                                                    test_size=0.5,\n",
    "                                                    random_state=19)"
   ]
  },
  {
   "cell_type": "markdown",
   "metadata": {},
   "source": [
    "#### ARIMA"
   ]
  },
  {
   "cell_type": "code",
   "execution_count": 381,
   "metadata": {},
   "outputs": [],
   "source": [
    "import statsmodels.api as sm"
   ]
  },
  {
   "cell_type": "code",
   "execution_count": 382,
   "metadata": {},
   "outputs": [
    {
     "name": "stdout",
     "output_type": "stream",
     "text": [
      "Val set RMSE is 1052.0165620630248\n"
     ]
    }
   ],
   "source": [
    "mean_pred = [np.mean(X_val[i]) for i in range(365)]\n",
    "\n",
    "print('Val set RMSE is', mean_squared_error(y_val, mean_pred, squared=False))"
   ]
  },
  {
   "cell_type": "code",
   "execution_count": 383,
   "metadata": {},
   "outputs": [
    {
     "name": "stdout",
     "output_type": "stream",
     "text": [
      "Val set RMSE is 1052.0165620630248\n"
     ]
    }
   ],
   "source": [
    "preds = []\n",
    "\n",
    "for row in range(len(y_val)):\n",
    "    mean = np.mean(X_val[row])\n",
    "    mod02 = sm.tsa.statespace.SARIMAX(X_val[row]-mean, order=(1,0,0), seasonal_order=(1,0,0,7))\n",
    "    fit02 = mod02.fit(disp=False)\n",
    "    pred = fit02.predict(0,0) + mean\n",
    "    preds.append(pred)\n",
    "\n",
    "print('Val set RMSE is', mean_squared_error(y_val, preds, squared=False))"
   ]
  },
  {
   "cell_type": "code",
   "execution_count": null,
   "metadata": {},
   "outputs": [],
   "source": [
    "preds = []\n",
    "\n",
    "for row in range(len(y_val)):\n",
    "    mod02 = sm.tsa.arima.ARIMA(X_val[row], order=(7,1,0), seasonal_order=(0,0,0,0))\n",
    "    fit02 = mod02.fit()\n",
    "    pred = fit02.predict(0,0)\n",
    "    preds.append(pred)\n",
    "\n",
    "print('Val set RMSE is', mean_squared_error(y_val, preds, squared=False))"
   ]
  },
  {
   "cell_type": "markdown",
   "metadata": {},
   "source": [
    "#### Linear Regression"
   ]
  },
  {
   "cell_type": "code",
   "execution_count": 384,
   "metadata": {
    "scrolled": true
   },
   "outputs": [
    {
     "name": "stdout",
     "output_type": "stream",
     "text": [
      "Training set RMSE is 442.46650325784327\n",
      "Val set RMSE is 548.5839497517804\n"
     ]
    }
   ],
   "source": [
    "from sklearn.linear_model import LinearRegression\n",
    "import warnings \n",
    "warnings.filterwarnings(\"ignore\")\n",
    "\n",
    "reg01 = LinearRegression()\n",
    "reg01.fit(X_train, y_train)\n",
    "\n",
    "readout(reg01,X_train,y_train,X_val,y_val)"
   ]
  },
  {
   "cell_type": "markdown",
   "metadata": {},
   "source": [
    "#### Random Forest"
   ]
  },
  {
   "cell_type": "code",
   "execution_count": 385,
   "metadata": {},
   "outputs": [
    {
     "name": "stdout",
     "output_type": "stream",
     "text": [
      "Training set RMSE is 140.55511083874947\n",
      "Val set RMSE is 499.0915297008937\n"
     ]
    }
   ],
   "source": [
    "from sklearn.ensemble import RandomForestRegressor\n",
    "import warnings \n",
    "warnings.filterwarnings(\"ignore\")\n",
    "\n",
    "forest01 = RandomForestRegressor(n_estimators=500,random_state=19)\n",
    "forest01.fit(X_train, y_train)\n",
    "\n",
    "readout(forest01,X_train,y_train,X_val,y_val)"
   ]
  },
  {
   "cell_type": "markdown",
   "metadata": {},
   "source": [
    "#### Extra Trees"
   ]
  },
  {
   "cell_type": "code",
   "execution_count": 386,
   "metadata": {},
   "outputs": [
    {
     "name": "stdout",
     "output_type": "stream",
     "text": [
      "Training set RMSE is 0.0\n",
      "Val set RMSE is 483.4483705383392\n"
     ]
    }
   ],
   "source": [
    "from sklearn.ensemble import ExtraTreesRegressor\n",
    "\n",
    "forest07 = ExtraTreesRegressor(n_estimators=500,random_state=19)\n",
    "forest07.fit(X_train, y_train)\n",
    "\n",
    "readout(forest07,X_train,y_train,X_val,y_val)"
   ]
  },
  {
   "cell_type": "code",
   "execution_count": 427,
   "metadata": {},
   "outputs": [
    {
     "name": "stdout",
     "output_type": "stream",
     "text": [
      "Training set RMSE is 0.0\n",
      "Val set RMSE is 394.2736381206537\n"
     ]
    }
   ],
   "source": [
    "from sklearn.ensemble import ExtraTreesRegressor\n",
    "\n",
    "forest07 = ExtraTreesRegressor(n_estimators=500,random_state=19)\n",
    "forest07.fit(X_train, y_train)\n",
    "\n",
    "readout(forest07,X_train,y_train,X_test,y_test)"
   ]
  },
  {
   "cell_type": "markdown",
   "metadata": {},
   "source": [
    "#### Support Vector Regression"
   ]
  },
  {
   "cell_type": "code",
   "execution_count": 387,
   "metadata": {},
   "outputs": [
    {
     "name": "stdout",
     "output_type": "stream",
     "text": [
      "Training set RMSE is 330.87048329553335\n",
      "Val set RMSE is 507.00670652970075\n"
     ]
    }
   ],
   "source": [
    "from sklearn.svm import SVR\n",
    "\n",
    "std = np.std(X_train)\n",
    "svr01 = SVR(C=std, epsilon=0.2*std)\n",
    "svr01.fit(X_train, y_train)\n",
    "\n",
    "readout(svr01,X_train,y_train,X_val,y_val)"
   ]
  },
  {
   "cell_type": "code",
   "execution_count": null,
   "metadata": {},
   "outputs": [],
   "source": []
  },
  {
   "cell_type": "markdown",
   "metadata": {},
   "source": [
    "## Grand 35\n",
    "\n",
    "Access using \"datasets[1]\""
   ]
  },
  {
   "cell_type": "code",
   "execution_count": 428,
   "metadata": {},
   "outputs": [],
   "source": [
    "# split into train/val/test\n",
    "d = datasets[1]\n",
    "\n",
    "X_train, X_purg, y_train, y_purg = train_test_split(d[:,0:35],\n",
    "                                                    d[:,-1],\n",
    "                                                    test_size=0.4,\n",
    "                                                    random_state=19)\n",
    "\n",
    "X_val, X_test, y_val, y_test = train_test_split(X_purg,\n",
    "                                                    y_purg,\n",
    "                                                    test_size=0.5,\n",
    "                                                    random_state=19)"
   ]
  },
  {
   "cell_type": "markdown",
   "metadata": {},
   "source": [
    "#### ARIMA"
   ]
  },
  {
   "cell_type": "code",
   "execution_count": 389,
   "metadata": {},
   "outputs": [],
   "source": [
    "import statsmodels.api as sm"
   ]
  },
  {
   "cell_type": "code",
   "execution_count": 390,
   "metadata": {},
   "outputs": [
    {
     "name": "stdout",
     "output_type": "stream",
     "text": [
      "Val set RMSE is 700.6252339374947\n"
     ]
    }
   ],
   "source": [
    "mean_pred = [np.mean(X_val[i]) for i in range(365)]\n",
    "\n",
    "print('Val set RMSE is', mean_squared_error(y_val, mean_pred, squared=False))"
   ]
  },
  {
   "cell_type": "code",
   "execution_count": 391,
   "metadata": {},
   "outputs": [
    {
     "name": "stdout",
     "output_type": "stream",
     "text": [
      "Val set RMSE is 700.6252339374947\n"
     ]
    }
   ],
   "source": [
    "preds = []\n",
    "\n",
    "for row in range(len(y_val)):\n",
    "    mean = np.mean(X_val[row])\n",
    "    mod02 = sm.tsa.statespace.SARIMAX(X_val[row]-mean, order=(1,0,0), seasonal_order=(1,0,0,7))\n",
    "    fit02 = mod02.fit(disp=False)\n",
    "    pred = fit02.predict(0,0) + mean\n",
    "    preds.append(pred)\n",
    "\n",
    "print('Val set RMSE is', mean_squared_error(y_val, preds, squared=False))"
   ]
  },
  {
   "cell_type": "code",
   "execution_count": 392,
   "metadata": {},
   "outputs": [
    {
     "name": "stdout",
     "output_type": "stream",
     "text": [
      "Val set RMSE is 2490.4498278836054\n"
     ]
    }
   ],
   "source": [
    "preds = []\n",
    "\n",
    "for row in range(len(y_val)):\n",
    "    mod02 = sm.tsa.arima.ARIMA(X_val[row], order=(7,1,0), seasonal_order=(0,0,0,0))\n",
    "    fit02 = mod02.fit()\n",
    "    pred = fit02.predict(0,0)\n",
    "    preds.append(pred)\n",
    "\n",
    "print('Val set RMSE is', mean_squared_error(y_val, preds, squared=False))"
   ]
  },
  {
   "cell_type": "markdown",
   "metadata": {},
   "source": [
    "#### Linear Regression"
   ]
  },
  {
   "cell_type": "code",
   "execution_count": 393,
   "metadata": {
    "scrolled": true
   },
   "outputs": [
    {
     "name": "stdout",
     "output_type": "stream",
     "text": [
      "Training set RMSE is 283.6004012901398\n",
      "Val set RMSE is 342.2137148974163\n"
     ]
    }
   ],
   "source": [
    "from sklearn.linear_model import LinearRegression\n",
    "import warnings \n",
    "warnings.filterwarnings(\"ignore\")\n",
    "\n",
    "reg01 = LinearRegression()\n",
    "reg01.fit(X_train, y_train)\n",
    "\n",
    "readout(reg01,X_train,y_train,X_val,y_val)"
   ]
  },
  {
   "cell_type": "markdown",
   "metadata": {},
   "source": [
    "#### Random Forest"
   ]
  },
  {
   "cell_type": "code",
   "execution_count": 394,
   "metadata": {},
   "outputs": [
    {
     "name": "stdout",
     "output_type": "stream",
     "text": [
      "Training set RMSE is 101.08778967724112\n",
      "Val set RMSE is 300.23695014742964\n"
     ]
    }
   ],
   "source": [
    "from sklearn.ensemble import RandomForestRegressor\n",
    "import warnings \n",
    "warnings.filterwarnings(\"ignore\")\n",
    "\n",
    "forest01 = RandomForestRegressor(n_estimators=500,random_state=19)\n",
    "forest01.fit(X_train, y_train)\n",
    "\n",
    "readout(forest01,X_train,y_train,X_val,y_val)"
   ]
  },
  {
   "cell_type": "markdown",
   "metadata": {},
   "source": [
    "#### Extra Trees"
   ]
  },
  {
   "cell_type": "code",
   "execution_count": 395,
   "metadata": {},
   "outputs": [
    {
     "name": "stdout",
     "output_type": "stream",
     "text": [
      "Training set RMSE is 0.0\n",
      "Val set RMSE is 292.5037619777279\n"
     ]
    }
   ],
   "source": [
    "from sklearn.ensemble import ExtraTreesRegressor\n",
    "\n",
    "forest07 = ExtraTreesRegressor(n_estimators=500,random_state=19)\n",
    "forest07.fit(X_train, y_train)\n",
    "\n",
    "readout(forest07,X_train,y_train,X_val,y_val)"
   ]
  },
  {
   "cell_type": "code",
   "execution_count": 429,
   "metadata": {},
   "outputs": [
    {
     "name": "stdout",
     "output_type": "stream",
     "text": [
      "Training set RMSE is 0.0\n",
      "Val set RMSE is 271.74472839752934\n"
     ]
    }
   ],
   "source": [
    "from sklearn.ensemble import ExtraTreesRegressor\n",
    "\n",
    "forest07 = ExtraTreesRegressor(n_estimators=500,random_state=19)\n",
    "forest07.fit(X_train, y_train)\n",
    "\n",
    "readout(forest07,X_train,y_train,X_test,y_test)"
   ]
  },
  {
   "cell_type": "markdown",
   "metadata": {},
   "source": [
    "#### Support Vector Regression"
   ]
  },
  {
   "cell_type": "code",
   "execution_count": 396,
   "metadata": {},
   "outputs": [
    {
     "name": "stdout",
     "output_type": "stream",
     "text": [
      "Training set RMSE is 231.84681932467672\n",
      "Val set RMSE is 322.3313686260472\n"
     ]
    }
   ],
   "source": [
    "from sklearn.svm import SVR\n",
    "\n",
    "std = np.std(X_train)\n",
    "svr01 = SVR(C=std, epsilon=0.2*std)\n",
    "svr01.fit(X_train, y_train)\n",
    "\n",
    "readout(svr01,X_train,y_train,X_val,y_val)"
   ]
  },
  {
   "cell_type": "code",
   "execution_count": null,
   "metadata": {},
   "outputs": [],
   "source": []
  },
  {
   "cell_type": "markdown",
   "metadata": {},
   "source": [
    "## Grand 14\n",
    "\n",
    "Access using \"datasets[1]\""
   ]
  },
  {
   "cell_type": "code",
   "execution_count": 397,
   "metadata": {},
   "outputs": [],
   "source": [
    "# split into train/val/test\n",
    "d = datasets[1]\n",
    "\n",
    "X_train, X_purg, y_train, y_purg = train_test_split(d[:,21:35],\n",
    "                                                    d[:,-1],\n",
    "                                                    test_size=0.4,\n",
    "                                                    random_state=19)\n",
    "\n",
    "X_val, X_test, y_val, y_test = train_test_split(X_purg,\n",
    "                                                    y_purg,\n",
    "                                                    test_size=0.5,\n",
    "                                                    random_state=19)"
   ]
  },
  {
   "cell_type": "markdown",
   "metadata": {},
   "source": [
    "#### ARIMA"
   ]
  },
  {
   "cell_type": "code",
   "execution_count": 398,
   "metadata": {},
   "outputs": [],
   "source": [
    "import statsmodels.api as sm"
   ]
  },
  {
   "cell_type": "code",
   "execution_count": 399,
   "metadata": {},
   "outputs": [
    {
     "name": "stdout",
     "output_type": "stream",
     "text": [
      "Val set RMSE is 697.5587984531576\n"
     ]
    }
   ],
   "source": [
    "mean_pred = [np.mean(X_val[i]) for i in range(365)]\n",
    "\n",
    "print('Val set RMSE is', mean_squared_error(y_val, mean_pred, squared=False))"
   ]
  },
  {
   "cell_type": "code",
   "execution_count": 400,
   "metadata": {},
   "outputs": [
    {
     "name": "stdout",
     "output_type": "stream",
     "text": [
      "Val set RMSE is 697.5587984531576\n"
     ]
    }
   ],
   "source": [
    "preds = []\n",
    "\n",
    "for row in range(len(y_val)):\n",
    "    mean = np.mean(X_val[row])\n",
    "    mod02 = sm.tsa.statespace.SARIMAX(X_val[row]-mean, order=(1,0,0), seasonal_order=(1,0,0,7))\n",
    "    fit02 = mod02.fit(disp=False)\n",
    "    pred = fit02.predict(0,0) + mean\n",
    "    preds.append(pred)\n",
    "\n",
    "print('Val set RMSE is', mean_squared_error(y_val, preds, squared=False))"
   ]
  },
  {
   "cell_type": "code",
   "execution_count": null,
   "metadata": {},
   "outputs": [],
   "source": [
    "preds = []\n",
    "\n",
    "for row in range(len(y_val)):\n",
    "    mod02 = sm.tsa.arima.ARIMA(X_val[row], order=(7,1,0), seasonal_order=(0,0,0,0))\n",
    "    fit02 = mod02.fit()\n",
    "    pred = fit02.predict(0,0)\n",
    "    preds.append(pred)\n",
    "\n",
    "print('Val set RMSE is', mean_squared_error(y_val, preds, squared=False))"
   ]
  },
  {
   "cell_type": "markdown",
   "metadata": {},
   "source": [
    "#### Linear Regression"
   ]
  },
  {
   "cell_type": "code",
   "execution_count": 401,
   "metadata": {
    "scrolled": true
   },
   "outputs": [
    {
     "name": "stdout",
     "output_type": "stream",
     "text": [
      "Training set RMSE is 321.672184778282\n",
      "Val set RMSE is 364.1808345291169\n"
     ]
    }
   ],
   "source": [
    "from sklearn.linear_model import LinearRegression\n",
    "import warnings \n",
    "warnings.filterwarnings(\"ignore\")\n",
    "\n",
    "reg01 = LinearRegression()\n",
    "reg01.fit(X_train, y_train)\n",
    "\n",
    "readout(reg01,X_train,y_train,X_val,y_val)"
   ]
  },
  {
   "cell_type": "markdown",
   "metadata": {},
   "source": [
    "#### Random Forest"
   ]
  },
  {
   "cell_type": "code",
   "execution_count": 402,
   "metadata": {},
   "outputs": [
    {
     "name": "stdout",
     "output_type": "stream",
     "text": [
      "Training set RMSE is 106.08867330247585\n",
      "Val set RMSE is 311.367843175353\n"
     ]
    }
   ],
   "source": [
    "from sklearn.ensemble import RandomForestRegressor\n",
    "import warnings \n",
    "warnings.filterwarnings(\"ignore\")\n",
    "\n",
    "forest01 = RandomForestRegressor(n_estimators=500,random_state=19)\n",
    "forest01.fit(X_train, y_train)\n",
    "\n",
    "readout(forest01,X_train,y_train,X_val,y_val)"
   ]
  },
  {
   "cell_type": "markdown",
   "metadata": {},
   "source": [
    "#### Extra Trees"
   ]
  },
  {
   "cell_type": "code",
   "execution_count": 403,
   "metadata": {},
   "outputs": [
    {
     "name": "stdout",
     "output_type": "stream",
     "text": [
      "Training set RMSE is 0.0\n",
      "Val set RMSE is 302.87343783227294\n"
     ]
    }
   ],
   "source": [
    "from sklearn.ensemble import ExtraTreesRegressor\n",
    "\n",
    "forest07 = ExtraTreesRegressor(n_estimators=500,random_state=19)\n",
    "forest07.fit(X_train, y_train)\n",
    "\n",
    "readout(forest07,X_train,y_train,X_val,y_val)"
   ]
  },
  {
   "cell_type": "markdown",
   "metadata": {},
   "source": [
    "#### Support Vector Regression"
   ]
  },
  {
   "cell_type": "code",
   "execution_count": 404,
   "metadata": {},
   "outputs": [
    {
     "name": "stdout",
     "output_type": "stream",
     "text": [
      "Training set RMSE is 245.86742368735182\n",
      "Val set RMSE is 315.4030712823162\n"
     ]
    }
   ],
   "source": [
    "from sklearn.svm import SVR\n",
    "\n",
    "std = np.std(X_train)\n",
    "svr01 = SVR(C=std, epsilon=0.2*std)\n",
    "svr01.fit(X_train, y_train)\n",
    "\n",
    "readout(svr01,X_train,y_train,X_val,y_val)"
   ]
  },
  {
   "cell_type": "code",
   "execution_count": null,
   "metadata": {},
   "outputs": [],
   "source": []
  },
  {
   "cell_type": "markdown",
   "metadata": {},
   "source": [
    "## Belmont 35\n",
    "\n",
    "Access using \"datasets[2]\""
   ]
  },
  {
   "cell_type": "code",
   "execution_count": 430,
   "metadata": {},
   "outputs": [],
   "source": [
    "# split into train/val/test\n",
    "d = datasets[2]\n",
    "\n",
    "X_train, X_purg, y_train, y_purg = train_test_split(d[:,0:35],\n",
    "                                                    d[:,-1],\n",
    "                                                    test_size=0.4,\n",
    "                                                    random_state=19)\n",
    "\n",
    "X_val, X_test, y_val, y_test = train_test_split(X_purg,\n",
    "                                                    y_purg,\n",
    "                                                    test_size=0.5,\n",
    "                                                    random_state=19)"
   ]
  },
  {
   "cell_type": "markdown",
   "metadata": {},
   "source": [
    "#### ARIMA"
   ]
  },
  {
   "cell_type": "code",
   "execution_count": 406,
   "metadata": {},
   "outputs": [],
   "source": [
    "import statsmodels.api as sm"
   ]
  },
  {
   "cell_type": "code",
   "execution_count": 407,
   "metadata": {},
   "outputs": [
    {
     "name": "stdout",
     "output_type": "stream",
     "text": [
      "Val set RMSE is 2555.0496426788923\n"
     ]
    }
   ],
   "source": [
    "mean_pred = [np.mean(X_val[i]) for i in range(365)]\n",
    "\n",
    "print('Val set RMSE is', mean_squared_error(y_val, mean_pred, squared=False))"
   ]
  },
  {
   "cell_type": "code",
   "execution_count": 408,
   "metadata": {},
   "outputs": [
    {
     "name": "stdout",
     "output_type": "stream",
     "text": [
      "Val set RMSE is 2555.0496426788923\n"
     ]
    }
   ],
   "source": [
    "preds = []\n",
    "\n",
    "for row in range(len(y_val)):\n",
    "    mean = np.mean(X_val[row])\n",
    "    mod02 = sm.tsa.statespace.SARIMAX(X_val[row]-mean, order=(1,0,0), seasonal_order=(1,0,0,7))\n",
    "    fit02 = mod02.fit(disp=False)\n",
    "    pred = fit02.predict(0,0) + mean\n",
    "    preds.append(pred)\n",
    "\n",
    "print('Val set RMSE is', mean_squared_error(y_val, preds, squared=False))"
   ]
  },
  {
   "cell_type": "code",
   "execution_count": null,
   "metadata": {},
   "outputs": [],
   "source": [
    "preds = []\n",
    "\n",
    "for row in range(len(y_val)):\n",
    "    mod02 = sm.tsa.arima.ARIMA(X_val[row], order=(7,1,0), seasonal_order=(0,0,0,0))\n",
    "    fit02 = mod02.fit()\n",
    "    pred = fit02.predict(0,0)\n",
    "    preds.append(pred)\n",
    "\n",
    "print('Val set RMSE is', mean_squared_error(y_val, preds, squared=False))"
   ]
  },
  {
   "cell_type": "markdown",
   "metadata": {},
   "source": [
    "#### Linear Regression"
   ]
  },
  {
   "cell_type": "code",
   "execution_count": 409,
   "metadata": {
    "scrolled": true
   },
   "outputs": [
    {
     "name": "stdout",
     "output_type": "stream",
     "text": [
      "Training set RMSE is 1915.6878296031098\n",
      "Val set RMSE is 1877.061647243793\n"
     ]
    }
   ],
   "source": [
    "from sklearn.linear_model import LinearRegression\n",
    "import warnings \n",
    "warnings.filterwarnings(\"ignore\")\n",
    "\n",
    "reg01 = LinearRegression()\n",
    "reg01.fit(X_train, y_train)\n",
    "\n",
    "readout(reg01,X_train,y_train,X_val,y_val)"
   ]
  },
  {
   "cell_type": "markdown",
   "metadata": {},
   "source": [
    "#### Random Forest"
   ]
  },
  {
   "cell_type": "code",
   "execution_count": 410,
   "metadata": {},
   "outputs": [
    {
     "name": "stdout",
     "output_type": "stream",
     "text": [
      "Training set RMSE is 656.8988201072503\n",
      "Val set RMSE is 1775.6174970363902\n"
     ]
    }
   ],
   "source": [
    "from sklearn.ensemble import RandomForestRegressor\n",
    "import warnings \n",
    "warnings.filterwarnings(\"ignore\")\n",
    "\n",
    "forest01 = RandomForestRegressor(n_estimators=500,random_state=19)\n",
    "forest01.fit(X_train, y_train)\n",
    "\n",
    "readout(forest01,X_train,y_train,X_val,y_val)"
   ]
  },
  {
   "cell_type": "markdown",
   "metadata": {},
   "source": [
    "#### Extra Trees"
   ]
  },
  {
   "cell_type": "code",
   "execution_count": 411,
   "metadata": {},
   "outputs": [
    {
     "name": "stdout",
     "output_type": "stream",
     "text": [
      "Training set RMSE is 0.0\n",
      "Val set RMSE is 1733.9451201277755\n"
     ]
    }
   ],
   "source": [
    "from sklearn.ensemble import ExtraTreesRegressor\n",
    "\n",
    "forest07 = ExtraTreesRegressor(n_estimators=500,random_state=19)\n",
    "forest07.fit(X_train, y_train)\n",
    "\n",
    "readout(forest07,X_train,y_train,X_val,y_val)"
   ]
  },
  {
   "cell_type": "code",
   "execution_count": 431,
   "metadata": {},
   "outputs": [
    {
     "name": "stdout",
     "output_type": "stream",
     "text": [
      "Training set RMSE is 0.0\n",
      "Val set RMSE is 1259.330290460611\n"
     ]
    }
   ],
   "source": [
    "from sklearn.ensemble import ExtraTreesRegressor\n",
    "\n",
    "forest07 = ExtraTreesRegressor(n_estimators=500,random_state=19)\n",
    "forest07.fit(X_train, y_train)\n",
    "\n",
    "readout(forest07,X_train,y_train,X_test,y_test)"
   ]
  },
  {
   "cell_type": "markdown",
   "metadata": {},
   "source": [
    "#### Support Vector Regression"
   ]
  },
  {
   "cell_type": "code",
   "execution_count": 412,
   "metadata": {},
   "outputs": [
    {
     "name": "stdout",
     "output_type": "stream",
     "text": [
      "Training set RMSE is 1591.2428268661638\n",
      "Val set RMSE is 1841.1173499888246\n"
     ]
    }
   ],
   "source": [
    "from sklearn.svm import SVR\n",
    "\n",
    "std = np.std(X_train)\n",
    "svr01 = SVR(C=std, epsilon=0.2*std)\n",
    "svr01.fit(X_train, y_train)\n",
    "\n",
    "readout(svr01,X_train,y_train,X_val,y_val)"
   ]
  },
  {
   "cell_type": "code",
   "execution_count": null,
   "metadata": {},
   "outputs": [],
   "source": []
  },
  {
   "cell_type": "markdown",
   "metadata": {},
   "source": [
    "## Belmont 14\n",
    "\n",
    "Access using \"datasets[2]\""
   ]
  },
  {
   "cell_type": "code",
   "execution_count": 413,
   "metadata": {},
   "outputs": [],
   "source": [
    "# split into train/val/test\n",
    "d = datasets[2]\n",
    "\n",
    "X_train, X_purg, y_train, y_purg = train_test_split(d[:,21:35],\n",
    "                                                    d[:,-1],\n",
    "                                                    test_size=0.4,\n",
    "                                                    random_state=19)\n",
    "\n",
    "X_val, X_test, y_val, y_test = train_test_split(X_purg,\n",
    "                                                    y_purg,\n",
    "                                                    test_size=0.5,\n",
    "                                                    random_state=19)"
   ]
  },
  {
   "cell_type": "markdown",
   "metadata": {},
   "source": [
    "#### ARIMA"
   ]
  },
  {
   "cell_type": "code",
   "execution_count": 414,
   "metadata": {},
   "outputs": [],
   "source": [
    "import statsmodels.api as sm"
   ]
  },
  {
   "cell_type": "code",
   "execution_count": 415,
   "metadata": {},
   "outputs": [
    {
     "name": "stdout",
     "output_type": "stream",
     "text": [
      "Val set RMSE is 2518.338112865881\n"
     ]
    }
   ],
   "source": [
    "mean_pred = [np.mean(X_val[i]) for i in range(365)]\n",
    "\n",
    "print('Val set RMSE is', mean_squared_error(y_val, mean_pred, squared=False))"
   ]
  },
  {
   "cell_type": "code",
   "execution_count": 416,
   "metadata": {},
   "outputs": [
    {
     "name": "stdout",
     "output_type": "stream",
     "text": [
      "Val set RMSE is 2518.338112865881\n"
     ]
    }
   ],
   "source": [
    "preds = []\n",
    "\n",
    "for row in range(len(y_val)):\n",
    "    mean = np.mean(X_val[row])\n",
    "    mod02 = sm.tsa.statespace.SARIMAX(X_val[row]-mean, order=(1,0,0), seasonal_order=(1,0,0,7))\n",
    "    fit02 = mod02.fit(disp=False)\n",
    "    pred = fit02.predict(0,0) + mean\n",
    "    preds.append(pred)\n",
    "\n",
    "print('Val set RMSE is', mean_squared_error(y_val, preds, squared=False))"
   ]
  },
  {
   "cell_type": "code",
   "execution_count": null,
   "metadata": {},
   "outputs": [],
   "source": [
    "preds = []\n",
    "\n",
    "for row in range(len(y_val)):\n",
    "    mod02 = sm.tsa.arima.ARIMA(X_val[row], order=(7,1,0), seasonal_order=(0,0,0,0))\n",
    "    fit02 = mod02.fit()\n",
    "    pred = fit02.predict(0,0)\n",
    "    preds.append(pred)\n",
    "\n",
    "print('Val set RMSE is', mean_squared_error(y_val, preds, squared=False))"
   ]
  },
  {
   "cell_type": "markdown",
   "metadata": {},
   "source": [
    "#### Linear Regression"
   ]
  },
  {
   "cell_type": "code",
   "execution_count": 417,
   "metadata": {
    "scrolled": true
   },
   "outputs": [
    {
     "name": "stdout",
     "output_type": "stream",
     "text": [
      "Training set RMSE is 2009.4931694241072\n",
      "Val set RMSE is 2019.9477281943402\n"
     ]
    }
   ],
   "source": [
    "from sklearn.linear_model import LinearRegression\n",
    "import warnings \n",
    "warnings.filterwarnings(\"ignore\")\n",
    "\n",
    "reg01 = LinearRegression()\n",
    "reg01.fit(X_train, y_train)\n",
    "\n",
    "readout(reg01,X_train,y_train,X_val,y_val)"
   ]
  },
  {
   "cell_type": "markdown",
   "metadata": {},
   "source": [
    "#### Random Forest"
   ]
  },
  {
   "cell_type": "code",
   "execution_count": 418,
   "metadata": {},
   "outputs": [
    {
     "name": "stdout",
     "output_type": "stream",
     "text": [
      "Training set RMSE is 679.6699941040579\n",
      "Val set RMSE is 1740.3048506228386\n"
     ]
    }
   ],
   "source": [
    "from sklearn.ensemble import RandomForestRegressor\n",
    "import warnings \n",
    "warnings.filterwarnings(\"ignore\")\n",
    "\n",
    "forest01 = RandomForestRegressor(n_estimators=500,random_state=19)\n",
    "forest01.fit(X_train, y_train)\n",
    "\n",
    "readout(forest01,X_train,y_train,X_val,y_val)"
   ]
  },
  {
   "cell_type": "markdown",
   "metadata": {},
   "source": [
    "#### Extra Trees"
   ]
  },
  {
   "cell_type": "code",
   "execution_count": 419,
   "metadata": {},
   "outputs": [
    {
     "name": "stdout",
     "output_type": "stream",
     "text": [
      "Training set RMSE is 0.0\n",
      "Val set RMSE is 1800.6836640799593\n"
     ]
    }
   ],
   "source": [
    "from sklearn.ensemble import ExtraTreesRegressor\n",
    "\n",
    "forest07 = ExtraTreesRegressor(n_estimators=500,random_state=19)\n",
    "forest07.fit(X_train, y_train)\n",
    "\n",
    "readout(forest07,X_train,y_train,X_val,y_val)"
   ]
  },
  {
   "cell_type": "markdown",
   "metadata": {},
   "source": [
    "#### Support Vector Regression"
   ]
  },
  {
   "cell_type": "code",
   "execution_count": 420,
   "metadata": {},
   "outputs": [
    {
     "name": "stdout",
     "output_type": "stream",
     "text": [
      "Training set RMSE is 1655.9356025985064\n",
      "Val set RMSE is 1822.287706700651\n"
     ]
    }
   ],
   "source": [
    "from sklearn.svm import SVR\n",
    "\n",
    "std = np.std(X_train)\n",
    "svr01 = SVR(C=std, epsilon=0.2*std)\n",
    "svr01.fit(X_train, y_train)\n",
    "\n",
    "readout(svr01,X_train,y_train,X_val,y_val)"
   ]
  },
  {
   "cell_type": "code",
   "execution_count": null,
   "metadata": {},
   "outputs": [],
   "source": []
  },
  {
   "cell_type": "code",
   "execution_count": null,
   "metadata": {},
   "outputs": [],
   "source": []
  },
  {
   "cell_type": "code",
   "execution_count": null,
   "metadata": {},
   "outputs": [],
   "source": []
  },
  {
   "cell_type": "code",
   "execution_count": null,
   "metadata": {},
   "outputs": [],
   "source": []
  },
  {
   "cell_type": "code",
   "execution_count": null,
   "metadata": {},
   "outputs": [],
   "source": []
  },
  {
   "cell_type": "code",
   "execution_count": null,
   "metadata": {},
   "outputs": [],
   "source": []
  },
  {
   "cell_type": "markdown",
   "metadata": {},
   "source": [
    "county_geo <- readRDS(\"data/county_geo.rds\")\n",
    "\n",
    "homework_df <- readRDS(\"data/homework_df.rds\")\n",
    "\n",
    "missing <- homework_df %>%\n",
    "  dplyr::filter(is.na(zhvi))"
   ]
  },
  {
   "cell_type": "code",
   "execution_count": null,
   "metadata": {},
   "outputs": [],
   "source": [
    "from sklearn.model_selection import train_test_split\n",
    "\n",
    "nonmissing = nonmissing.dropna()\n",
    "\n",
    "X_train, X_val, y_train, y_val = train_test_split(nonmissing.drop('zhvi',axis=1),\n",
    "                                                  nonmissing['zhvi'],\n",
    "                                                    test_size=0.3,\n",
    "                                                    random_state=666)"
   ]
  },
  {
   "cell_type": "code",
   "execution_count": null,
   "metadata": {},
   "outputs": [],
   "source": []
  },
  {
   "cell_type": "code",
   "execution_count": null,
   "metadata": {},
   "outputs": [],
   "source": [
    "y_train"
   ]
  },
  {
   "cell_type": "code",
   "execution_count": null,
   "metadata": {},
   "outputs": [],
   "source": [
    "from sklearn.metrics import mean_squared_error\n",
    "\n",
    "def readout(model):\n",
    "\n",
    "    training_preds = model.predict(X_train)\n",
    "    print('Training set RMSE is', mean_squared_error(y_train, training_preds, squared=False))\n",
    "\n",
    "    val_preds = model.predict(X_val)\n",
    "    print('Val set RMSE is', mean_squared_error(y_val, val_preds, squared=False))\n",
    "    \n",
    "    if mean_squared_error(y_val, val_preds, squared=False) < 1:\n",
    "        print('Woohoo! This is a pretty good model. Val set RMSE is < 1, at',\n",
    "              mean_squared_error(y_val, test_preds, squared=False))"
   ]
  },
  {
   "cell_type": "markdown",
   "metadata": {},
   "source": [
    "### Linear Regression"
   ]
  },
  {
   "cell_type": "code",
   "execution_count": null,
   "metadata": {},
   "outputs": [],
   "source": [
    "X_train, X_val, y_train, y_val = train_test_split(nonmissing.loc[:,['county_geoid', 'year','median_income', 'lon', 'lat','row_id']],\n",
    "                                                  nonmissing.loc[:,'zhvi'],\n",
    "                                                    test_size=0.3,\n",
    "                                                    random_state=666)"
   ]
  },
  {
   "cell_type": "code",
   "execution_count": null,
   "metadata": {},
   "outputs": [],
   "source": [
    "from sklearn.linear_model import LinearRegression\n",
    "import warnings \n",
    "warnings.filterwarnings(\"ignore\")\n",
    "\n",
    "reg01 = LinearRegression()\n",
    "reg01.fit(X_train, y_train)\n",
    "\n",
    "readout(reg01)"
   ]
  },
  {
   "cell_type": "code",
   "execution_count": null,
   "metadata": {},
   "outputs": [],
   "source": [
    "X_train, X_val, y_train, y_val = train_test_split(nonmissing.loc[:,['county_geoid', 'year','median_income', 'lon', 'lat','row_id']],\n",
    "                                                  nonmissing.loc[:,'zhvi'],\n",
    "                                                    test_size=0.3,\n",
    "                                                    random_state=666)"
   ]
  },
  {
   "cell_type": "code",
   "execution_count": null,
   "metadata": {},
   "outputs": [],
   "source": [
    "X_train, X_val, y_train, y_val = train_test_split(nonmissing.loc[:,['year','median_income', 'lon', 'lat']],\n",
    "                                                  nonmissing.loc[:,'zhvi'],\n",
    "                                                    test_size=0.3,\n",
    "                                                    random_state=666)\n",
    "\n",
    "reg02 = LinearRegression()\n",
    "reg02.fit(X_train, y_train)\n",
    "\n",
    "readout(reg02)"
   ]
  },
  {
   "cell_type": "code",
   "execution_count": null,
   "metadata": {},
   "outputs": [],
   "source": [
    "X_train, X_val, y_train, y_val = train_test_split(nonmissing.loc[:,['year','median_income']],\n",
    "                                                  nonmissing.loc[:,'zhvi'],\n",
    "                                                    test_size=0.3,\n",
    "                                                    random_state=666)\n",
    "\n",
    "reg03 = LinearRegression()\n",
    "reg03.fit(X_train, y_train)\n",
    "\n",
    "readout(reg03)"
   ]
  },
  {
   "cell_type": "markdown",
   "metadata": {},
   "source": [
    "### Random Forest"
   ]
  },
  {
   "cell_type": "code",
   "execution_count": null,
   "metadata": {},
   "outputs": [],
   "source": [
    "from sklearn.ensemble import RandomForestRegressor\n",
    "import warnings \n",
    "warnings.filterwarnings(\"ignore\")"
   ]
  },
  {
   "cell_type": "code",
   "execution_count": null,
   "metadata": {},
   "outputs": [],
   "source": [
    "forest01 = RandomForestRegressor(random_state=666)\n",
    "forest01.fit(X_train, y_train)\n",
    "\n",
    "readout(forest01)"
   ]
  },
  {
   "cell_type": "code",
   "execution_count": null,
   "metadata": {},
   "outputs": [],
   "source": [
    "X_train, X_val, y_train, y_val = train_test_split(nonmissing.loc[:,['year','median_income', 'lon', 'lat']],\n",
    "                                                  nonmissing.loc[:,'zhvi'],\n",
    "                                                    test_size=0.3,\n",
    "                                                    random_state=666)\n",
    "\n",
    "forest02 = RandomForestRegressor(n_estimators=500,random_state=666)\n",
    "forest02.fit(X_train, y_train)\n",
    "\n",
    "readout(forest02)"
   ]
  },
  {
   "cell_type": "code",
   "execution_count": null,
   "metadata": {},
   "outputs": [],
   "source": [
    "forest03 = RandomForestRegressor(n_estimators=500,max_samples=0.25,random_state=666)\n",
    "forest03.fit(X_train, y_train)\n",
    "\n",
    "readout(forest03)"
   ]
  },
  {
   "cell_type": "code",
   "execution_count": null,
   "metadata": {},
   "outputs": [],
   "source": [
    "forest03 = RandomForestRegressor(n_estimators=300,max_features='sqrt',random_state=666)\n",
    "forest03.fit(X_train, y_train)\n",
    "\n",
    "readout(forest03)"
   ]
  },
  {
   "cell_type": "code",
   "execution_count": null,
   "metadata": {},
   "outputs": [],
   "source": [
    "forest05 = RandomForestRegressor(min_samples_split=4,random_state=666)\n",
    "forest05.fit(X_train, y_train)\n",
    "\n",
    "readout(forest05)"
   ]
  },
  {
   "cell_type": "code",
   "execution_count": null,
   "metadata": {},
   "outputs": [],
   "source": [
    "from sklearn.ensemble import ExtraTreesRegressor"
   ]
  },
  {
   "cell_type": "code",
   "execution_count": null,
   "metadata": {},
   "outputs": [],
   "source": [
    "\n",
    "forest07 = ExtraTreesRegressor(n_estimators=200,random_state=666)\n",
    "forest07.fit(X_train, y_train)\n",
    "\n",
    "readout(forest07)"
   ]
  },
  {
   "cell_type": "code",
   "execution_count": null,
   "metadata": {},
   "outputs": [],
   "source": [
    "forest08 = ExtraTreesRegressor(n_estimators=400,random_state=666)\n",
    "forest08.fit(X_train, y_train)\n",
    "\n",
    "readout(forest08)"
   ]
  },
  {
   "cell_type": "markdown",
   "metadata": {},
   "source": [
    "### SGD Regressor"
   ]
  },
  {
   "cell_type": "markdown",
   "metadata": {},
   "source": [
    "from sklearn.linear_model import Ridge"
   ]
  },
  {
   "cell_type": "code",
   "execution_count": null,
   "metadata": {},
   "outputs": [],
   "source": [
    "from sklearn.linear_model import Ridge\n",
    "\n",
    "from sklearn.preprocessing import StandardScaler\n",
    "from sklearn.pipeline import Pipeline"
   ]
  },
  {
   "cell_type": "code",
   "execution_count": null,
   "metadata": {},
   "outputs": [],
   "source": [
    "pip01 = Pipeline([\n",
    "    ('scale', StandardScaler()),\n",
    "    ('ridge', Ridge(alpha=10))\n",
    "])\n",
    "\n",
    "pip01.fit(X_train, y_train)\n",
    "\n",
    "readout(pip01)"
   ]
  },
  {
   "cell_type": "markdown",
   "metadata": {},
   "source": [
    "### THe ExtraTrees - forest08 - was the winner!"
   ]
  },
  {
   "cell_type": "markdown",
   "metadata": {},
   "source": [
    "## Predict on the \"missing\" set and save as csv"
   ]
  },
  {
   "cell_type": "code",
   "execution_count": null,
   "metadata": {},
   "outputs": [],
   "source": [
    "test_preds = forest08.predict(missing.drop('zhvi', axis=1))"
   ]
  },
  {
   "cell_type": "code",
   "execution_count": null,
   "metadata": {},
   "outputs": [],
   "source": [
    "test_preds.shape"
   ]
  },
  {
   "cell_type": "code",
   "execution_count": null,
   "metadata": {},
   "outputs": [],
   "source": [
    "missing.shape"
   ]
  },
  {
   "cell_type": "code",
   "execution_count": null,
   "metadata": {},
   "outputs": [],
   "source": [
    "missing['yhat'] = test_preds"
   ]
  },
  {
   "cell_type": "code",
   "execution_count": null,
   "metadata": {},
   "outputs": [],
   "source": [
    "missing.to_csv('Posch_August_Assignment5.csv')"
   ]
  },
  {
   "cell_type": "code",
   "execution_count": null,
   "metadata": {},
   "outputs": [],
   "source": []
  },
  {
   "cell_type": "code",
   "execution_count": null,
   "metadata": {},
   "outputs": [],
   "source": [
    "sklearn"
   ]
  },
  {
   "cell_type": "code",
   "execution_count": null,
   "metadata": {},
   "outputs": [],
   "source": [
    "from sklearn.linear_model import LinearRegression\n",
    "import warnings \n",
    "warnings.filterwarnings(\"ignore\")\n",
    "\n",
    "# Instantiate a linear regression process\n",
    "reg = LinearRegression()\n",
    "\n",
    "# Fit the training data\n",
    "reg.fit(X_train, y_train)\n",
    "\n",
    "# Make predictions on the test data\n",
    "lr_pred = reg.predict(X_test)  # note: lr_pred means lr predictions on the test set"
   ]
  },
  {
   "cell_type": "code",
   "execution_count": null,
   "metadata": {
    "scrolled": true
   },
   "outputs": [],
   "source": [
    "from sklearn import metrics\n",
    "from scipy import stats\n",
    "\n",
    "# Performance Metrics\n",
    "\n",
    "print('MSE: ', metrics.mean_squared_error(y_test, lr_pred))\n",
    "print('MAE: ', metrics.mean_absolute_error(y_test, lr_pred))\n",
    "print('R2: ', metrics.r2_score(y_test, lr_pred))\n",
    "print('Correlation: ', stats.pearsonr(y_test, lr_pred)[0])\n",
    "\n",
    "# Plotting prediction vs ground truth\n",
    "\n",
    "plt.figure(figsize=(12,4))\n",
    "plt.plot(y_test, label='Truth', c='blue')\n",
    "plt.plot(lr_pred, label='Prediction', linestyle='dotted', c='red')\n",
    "plt.ylabel('x', fontsize=12)\n",
    "plt.xlabel('Time Steps t since 4490', fontsize=12)\n",
    "plt.title('Figure 2.1A: Linear Regressor predictions were extremely good')\n",
    "plt.legend(fontsize=12)\n",
    "plt.show()"
   ]
  },
  {
   "cell_type": "code",
   "execution_count": null,
   "metadata": {},
   "outputs": [],
   "source": []
  },
  {
   "cell_type": "markdown",
   "metadata": {},
   "source": [
    "Crazy idea: train Naive Bayes for lots of different versions of the problem ( A) is it <10K or >10K?  B) is it <15K or >15K? .. etc say for 30 different values). The collection of 30 yes/no outputs forms a pseudo- probability distribution which we can use to make the best prediction."
   ]
  },
  {
   "cell_type": "code",
   "execution_count": null,
   "metadata": {},
   "outputs": [],
   "source": []
  },
  {
   "cell_type": "markdown",
   "metadata": {},
   "source": [
    "#### I will focus on RMSE\n",
    "\n",
    "rmse <- function(y, yhat){\n",
    "  sqrt(mean((yhat-y)^2))\n",
    "}\n",
    "\n",
    "r2 <- function(y, yhat){\n",
    "  sse <-sum((yhat-y)^2)\n",
    "  sst <-sum((y-mean(y))^2)\n",
    "  1 - sse/sst\n",
    "}\n",
    "\n",
    "bias <- function(y, yhat){\n",
    "  mean((yhat-y))\n",
    "}\n",
    "\n",
    "tail_bias <- function(y, yhat){\n",
    "  quantile(yhat, 0.99) - quantile(y, 0.99)\n",
    "}\n",
    "\n",
    "mape <- function(y, yhat){\n",
    "  100*mean((yhat-y) / y)\n",
    "}"
   ]
  },
  {
   "cell_type": "code",
   "execution_count": null,
   "metadata": {},
   "outputs": [],
   "source": []
  }
 ],
 "metadata": {
  "kernelspec": {
   "display_name": "Python 3 (ipykernel)",
   "language": "python",
   "name": "python3"
  },
  "language_info": {
   "codemirror_mode": {
    "name": "ipython",
    "version": 3
   },
   "file_extension": ".py",
   "mimetype": "text/x-python",
   "name": "python",
   "nbconvert_exporter": "python",
   "pygments_lexer": "ipython3",
   "version": "3.7.4"
  }
 },
 "nbformat": 4,
 "nbformat_minor": 2
}
